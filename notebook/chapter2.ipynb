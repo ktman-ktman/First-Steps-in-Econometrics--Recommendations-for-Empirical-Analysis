{
 "cells": [
  {
   "cell_type": "code",
   "execution_count": 29,
   "metadata": {},
   "outputs": [],
   "source": [
    "using XLSX\n",
    "using DataFrames\n",
    "using CSV\n",
    "using StatsBase\n",
    "using Plots"
   ]
  },
  {
   "cell_type": "markdown",
   "metadata": {},
   "source": [
    "# 第2章 データの扱い方"
   ]
  },
  {
   "cell_type": "markdown",
   "metadata": {},
   "source": [
    "## 1. データを整理して情報を読み取る"
   ]
  },
  {
   "cell_type": "code",
   "execution_count": 28,
   "metadata": {},
   "outputs": [
    {
     "data": {
      "text/html": [
       "<div><div style = \"float: left;\"><span>40×2 DataFrame</span></div><div style = \"float: right;\"><span style = \"font-style: italic;\">15 rows omitted</span></div><div style = \"clear: both;\"></div></div><div class = \"data-frame\" style = \"overflow-x: scroll;\"><table class = \"data-frame\" style = \"margin-bottom: 6px;\"><thead><tr class = \"header\"><th class = \"rowNumber\" style = \"font-weight: bold; text-align: right;\">Row</th><th style = \"text-align: left;\">no</th><th style = \"text-align: left;\">score</th></tr><tr class = \"subheader headerLastRow\"><th class = \"rowNumber\" style = \"font-weight: bold; text-align: right;\"></th><th title = \"Int64\" style = \"text-align: left;\">Int64</th><th title = \"Int64\" style = \"text-align: left;\">Int64</th></tr></thead><tbody><tr><td class = \"rowNumber\" style = \"font-weight: bold; text-align: right;\">1</td><td style = \"text-align: right;\">1</td><td style = \"text-align: right;\">59</td></tr><tr><td class = \"rowNumber\" style = \"font-weight: bold; text-align: right;\">2</td><td style = \"text-align: right;\">2</td><td style = \"text-align: right;\">78</td></tr><tr><td class = \"rowNumber\" style = \"font-weight: bold; text-align: right;\">3</td><td style = \"text-align: right;\">3</td><td style = \"text-align: right;\">95</td></tr><tr><td class = \"rowNumber\" style = \"font-weight: bold; text-align: right;\">4</td><td style = \"text-align: right;\">4</td><td style = \"text-align: right;\">46</td></tr><tr><td class = \"rowNumber\" style = \"font-weight: bold; text-align: right;\">5</td><td style = \"text-align: right;\">5</td><td style = \"text-align: right;\">38</td></tr><tr><td class = \"rowNumber\" style = \"font-weight: bold; text-align: right;\">6</td><td style = \"text-align: right;\">6</td><td style = \"text-align: right;\">56</td></tr><tr><td class = \"rowNumber\" style = \"font-weight: bold; text-align: right;\">7</td><td style = \"text-align: right;\">7</td><td style = \"text-align: right;\">68</td></tr><tr><td class = \"rowNumber\" style = \"font-weight: bold; text-align: right;\">8</td><td style = \"text-align: right;\">8</td><td style = \"text-align: right;\">64</td></tr><tr><td class = \"rowNumber\" style = \"font-weight: bold; text-align: right;\">9</td><td style = \"text-align: right;\">9</td><td style = \"text-align: right;\">58</td></tr><tr><td class = \"rowNumber\" style = \"font-weight: bold; text-align: right;\">10</td><td style = \"text-align: right;\">10</td><td style = \"text-align: right;\">49</td></tr><tr><td class = \"rowNumber\" style = \"font-weight: bold; text-align: right;\">11</td><td style = \"text-align: right;\">11</td><td style = \"text-align: right;\">66</td></tr><tr><td class = \"rowNumber\" style = \"font-weight: bold; text-align: right;\">12</td><td style = \"text-align: right;\">12</td><td style = \"text-align: right;\">36</td></tr><tr><td class = \"rowNumber\" style = \"font-weight: bold; text-align: right;\">13</td><td style = \"text-align: right;\">13</td><td style = \"text-align: right;\">95</td></tr><tr><td style = \"text-align: right;\">&vellip;</td><td style = \"text-align: right;\">&vellip;</td><td style = \"text-align: right;\">&vellip;</td></tr><tr><td class = \"rowNumber\" style = \"font-weight: bold; text-align: right;\">29</td><td style = \"text-align: right;\">29</td><td style = \"text-align: right;\">98</td></tr><tr><td class = \"rowNumber\" style = \"font-weight: bold; text-align: right;\">30</td><td style = \"text-align: right;\">30</td><td style = \"text-align: right;\">55</td></tr><tr><td class = \"rowNumber\" style = \"font-weight: bold; text-align: right;\">31</td><td style = \"text-align: right;\">31</td><td style = \"text-align: right;\">78</td></tr><tr><td class = \"rowNumber\" style = \"font-weight: bold; text-align: right;\">32</td><td style = \"text-align: right;\">32</td><td style = \"text-align: right;\">46</td></tr><tr><td class = \"rowNumber\" style = \"font-weight: bold; text-align: right;\">33</td><td style = \"text-align: right;\">33</td><td style = \"text-align: right;\">38</td></tr><tr><td class = \"rowNumber\" style = \"font-weight: bold; text-align: right;\">34</td><td style = \"text-align: right;\">34</td><td style = \"text-align: right;\">64</td></tr><tr><td class = \"rowNumber\" style = \"font-weight: bold; text-align: right;\">35</td><td style = \"text-align: right;\">35</td><td style = \"text-align: right;\">49</td></tr><tr><td class = \"rowNumber\" style = \"font-weight: bold; text-align: right;\">36</td><td style = \"text-align: right;\">36</td><td style = \"text-align: right;\">67</td></tr><tr><td class = \"rowNumber\" style = \"font-weight: bold; text-align: right;\">37</td><td style = \"text-align: right;\">37</td><td style = \"text-align: right;\">51</td></tr><tr><td class = \"rowNumber\" style = \"font-weight: bold; text-align: right;\">38</td><td style = \"text-align: right;\">38</td><td style = \"text-align: right;\">59</td></tr><tr><td class = \"rowNumber\" style = \"font-weight: bold; text-align: right;\">39</td><td style = \"text-align: right;\">39</td><td style = \"text-align: right;\">47</td></tr><tr><td class = \"rowNumber\" style = \"font-weight: bold; text-align: right;\">40</td><td style = \"text-align: right;\">40</td><td style = \"text-align: right;\">29</td></tr></tbody></table></div>"
      ],
      "text/latex": [
       "\\begin{tabular}{r|cc}\n",
       "\t& no & score\\\\\n",
       "\t\\hline\n",
       "\t& Int64 & Int64\\\\\n",
       "\t\\hline\n",
       "\t1 & 1 & 59 \\\\\n",
       "\t2 & 2 & 78 \\\\\n",
       "\t3 & 3 & 95 \\\\\n",
       "\t4 & 4 & 46 \\\\\n",
       "\t5 & 5 & 38 \\\\\n",
       "\t6 & 6 & 56 \\\\\n",
       "\t7 & 7 & 68 \\\\\n",
       "\t8 & 8 & 64 \\\\\n",
       "\t9 & 9 & 58 \\\\\n",
       "\t10 & 10 & 49 \\\\\n",
       "\t11 & 11 & 66 \\\\\n",
       "\t12 & 12 & 36 \\\\\n",
       "\t13 & 13 & 95 \\\\\n",
       "\t14 & 14 & 78 \\\\\n",
       "\t15 & 15 & 86 \\\\\n",
       "\t16 & 16 & 25 \\\\\n",
       "\t17 & 17 & 64 \\\\\n",
       "\t18 & 18 & 68 \\\\\n",
       "\t19 & 19 & 65 \\\\\n",
       "\t20 & 20 & 89 \\\\\n",
       "\t21 & 21 & 36 \\\\\n",
       "\t22 & 22 & 78 \\\\\n",
       "\t23 & 23 & 71 \\\\\n",
       "\t24 & 24 & 68 \\\\\n",
       "\t$\\dots$ & $\\dots$ & $\\dots$ \\\\\n",
       "\\end{tabular}\n"
      ],
      "text/plain": [
       "\u001b[1m40×2 DataFrame\u001b[0m\n",
       "\u001b[1m Row \u001b[0m│\u001b[1m no    \u001b[0m\u001b[1m score \u001b[0m\n",
       "     │\u001b[90m Int64 \u001b[0m\u001b[90m Int64 \u001b[0m\n",
       "─────┼──────────────\n",
       "   1 │     1     59\n",
       "   2 │     2     78\n",
       "   3 │     3     95\n",
       "   4 │     4     46\n",
       "   5 │     5     38\n",
       "   6 │     6     56\n",
       "   7 │     7     68\n",
       "   8 │     8     64\n",
       "  ⋮  │   ⋮      ⋮\n",
       "  34 │    34     64\n",
       "  35 │    35     49\n",
       "  36 │    36     67\n",
       "  37 │    37     51\n",
       "  38 │    38     59\n",
       "  39 │    39     47\n",
       "  40 │    40     29\n",
       "\u001b[36m     25 rows omitted\u001b[0m"
      ]
     },
     "metadata": {},
     "output_type": "display_data"
    }
   ],
   "source": [
    "ifn = \"../data/csv/2-1.csv\"\n",
    "df = CSV.read(ifn, DataFrame)"
   ]
  },
  {
   "cell_type": "code",
   "execution_count": 30,
   "metadata": {},
   "outputs": [
    {
     "data": {
      "text/plain": [
       "Histogram{Int64, 1, Tuple{StepRangeLen{Float64, Base.TwicePrecision{Float64}, Base.TwicePrecision{Float64}, Int64}}}\n",
       "edges:\n",
       "  20.0:10.0:100.0\n",
       "weights: [2, 4, 5, 7, 10, 5, 4, 3]\n",
       "closed: left\n",
       "isdensity: false"
      ]
     },
     "metadata": {},
     "output_type": "display_data"
    }
   ],
   "source": [
    "hist = fit(Histogram, df[!, :score])"
   ]
  },
  {
   "cell_type": "code",
   "execution_count": 34,
   "metadata": {},
   "outputs": [
    {
     "data": {
      "image/png": "[encoded data removed]",
      "image/svg+xml": [
       "<?xml version=\"1.0\" encoding=\"utf-8\"?>\n",
       "<svg xmlns=\"http://www.w3.org/2000/svg\" xmlns:xlink=\"http://www.w3.org/1999/xlink\" width=\"600\" height=\"400\" viewBox=\"0 0 2400 1600\">\n",
       "<defs>\n",
       "  <clipPath id=\"clip290\">\n",
       "    <rect x=\"0\" y=\"0\" width=\"2400\" height=\"1600\"/>\n",
       "  </clipPath>\n",
       "</defs>\n",
       "<path clip-path=\"url(#clip290)\" d=\"M0 1600 L2400 1600 L2400 0 L0 0  Z\" fill=\"#ffffff\" fill-rule=\"evenodd\" fill-opacity=\"1\"/>\n",
       "<defs>\n",
       "  <clipPath id=\"clip291\">\n",
       "    <rect x=\"480\" y=\"0\" width=\"1681\" height=\"1600\"/>\n",
       "  </clipPath>\n",
       "</defs>\n",
       "<path clip-path=\"url(#clip290)\" d=\"M202.227 1423.18 L2352.76 1423.18 L2352.76 123.472 L202.227 123.472  Z\" fill=\"#ffffff\" fill-rule=\"evenodd\" fill-opacity=\"1\"/>\n",
       "<defs>\n",
       "  <clipPath id=\"clip292\">\n",
       "    <rect x=\"202\" y=\"123\" width=\"2152\" height=\"1301\"/>\n",
       "  </clipPath>\n",
       "</defs>\n",
       "<polyline clip-path=\"url(#clip292)\" style=\"stroke:#000000; stroke-linecap:round; stroke-linejoin:round; stroke-width:2; stroke-opacity:0.1; fill:none\" points=\"320.51,1423.18 320.51,123.472 \"/>\n",
       "<polyline clip-path=\"url(#clip292)\" style=\"stroke:#000000; stroke-linecap:round; stroke-linejoin:round; stroke-width:2; stroke-opacity:0.1; fill:none\" points=\"799.001,1423.18 799.001,123.472 \"/>\n",
       "<polyline clip-path=\"url(#clip292)\" style=\"stroke:#000000; stroke-linecap:round; stroke-linejoin:round; stroke-width:2; stroke-opacity:0.1; fill:none\" points=\"1277.49,1423.18 1277.49,123.472 \"/>\n",
       "<polyline clip-path=\"url(#clip292)\" style=\"stroke:#000000; stroke-linecap:round; stroke-linejoin:round; stroke-width:2; stroke-opacity:0.1; fill:none\" points=\"1755.98,1423.18 1755.98,123.472 \"/>\n",
       "<polyline clip-path=\"url(#clip292)\" style=\"stroke:#000000; stroke-linecap:round; stroke-linejoin:round; stroke-width:2; stroke-opacity:0.1; fill:none\" points=\"2234.47,1423.18 2234.47,123.472 \"/>\n",
       "<polyline clip-path=\"url(#clip290)\" style=\"stroke:#000000; stroke-linecap:round; stroke-linejoin:round; stroke-width:4; stroke-opacity:1; fill:none\" points=\"202.227,1423.18 2352.76,1423.18 \"/>\n",
       "<polyline clip-path=\"url(#clip290)\" style=\"stroke:#000000; stroke-linecap:round; stroke-linejoin:round; stroke-width:4; stroke-opacity:1; fill:none\" points=\"320.51,1423.18 320.51,1404.28 \"/>\n",
       "<polyline clip-path=\"url(#clip290)\" style=\"stroke:#000000; stroke-linecap:round; stroke-linejoin:round; stroke-width:4; stroke-opacity:1; fill:none\" points=\"799.001,1423.18 799.001,1404.28 \"/>\n",
       "<polyline clip-path=\"url(#clip290)\" style=\"stroke:#000000; stroke-linecap:round; stroke-linejoin:round; stroke-width:4; stroke-opacity:1; fill:none\" points=\"1277.49,1423.18 1277.49,1404.28 \"/>\n",
       "<polyline clip-path=\"url(#clip290)\" style=\"stroke:#000000; stroke-linecap:round; stroke-linejoin:round; stroke-width:4; stroke-opacity:1; fill:none\" points=\"1755.98,1423.18 1755.98,1404.28 \"/>\n",
       "<polyline clip-path=\"url(#clip290)\" style=\"stroke:#000000; stroke-linecap:round; stroke-linejoin:round; stroke-width:4; stroke-opacity:1; fill:none\" points=\"2234.47,1423.18 2234.47,1404.28 \"/>\n",
       "<path clip-path=\"url(#clip290)\" d=\"M299.284 1481.64 L315.603 1481.64 L315.603 1485.58 L293.659 1485.58 L293.659 1481.64 Q296.321 1478.89 300.904 1474.26 Q305.51 1469.61 306.691 1468.27 Q308.936 1465.74 309.816 1464.01 Q310.719 1462.25 310.719 1460.56 Q310.719 1457.8 308.774 1456.07 Q306.853 1454.33 303.751 1454.33 Q301.552 1454.33 299.098 1455.09 Q296.668 1455.86 293.89 1457.41 L293.89 1452.69 Q296.714 1451.55 299.168 1450.97 Q301.622 1450.39 303.659 1450.39 Q309.029 1450.39 312.223 1453.08 Q315.418 1455.77 315.418 1460.26 Q315.418 1462.39 314.608 1464.31 Q313.821 1466.2 311.714 1468.8 Q311.135 1469.47 308.034 1472.69 Q304.932 1475.88 299.284 1481.64 Z\" fill=\"#000000\" fill-rule=\"nonzero\" fill-opacity=\"1\" /><path clip-path=\"url(#clip290)\" d=\"M335.418 1454.1 Q331.807 1454.1 329.978 1457.66 Q328.172 1461.2 328.172 1468.33 Q328.172 1475.44 329.978 1479.01 Q331.807 1482.55 335.418 1482.55 Q339.052 1482.55 340.857 1479.01 Q342.686 1475.44 342.686 1468.33 Q342.686 1461.2 340.857 1457.66 Q339.052 1454.1 335.418 1454.1 M335.418 1450.39 Q341.228 1450.39 344.283 1455 Q347.362 1459.58 347.362 1468.33 Q347.362 1477.06 344.283 1481.67 Q341.228 1486.25 335.418 1486.25 Q329.608 1486.25 326.529 1481.67 Q323.473 1477.06 323.473 1468.33 Q323.473 1459.58 326.529 1455 Q329.608 1450.39 335.418 1450.39 Z\" fill=\"#000000\" fill-rule=\"nonzero\" fill-opacity=\"1\" /><path clip-path=\"url(#clip290)\" d=\"M787.172 1455.09 L775.367 1473.54 L787.172 1473.54 L787.172 1455.09 M785.946 1451.02 L791.825 1451.02 L791.825 1473.54 L796.756 1473.54 L796.756 1477.43 L791.825 1477.43 L791.825 1485.58 L787.172 1485.58 L787.172 1477.43 L771.571 1477.43 L771.571 1472.92 L785.946 1451.02 Z\" fill=\"#000000\" fill-rule=\"nonzero\" fill-opacity=\"1\" /><path clip-path=\"url(#clip290)\" d=\"M814.487 1454.1 Q810.876 1454.1 809.047 1457.66 Q807.242 1461.2 807.242 1468.33 Q807.242 1475.44 809.047 1479.01 Q810.876 1482.55 814.487 1482.55 Q818.121 1482.55 819.927 1479.01 Q821.756 1475.44 821.756 1468.33 Q821.756 1461.2 819.927 1457.66 Q818.121 1454.1 814.487 1454.1 M814.487 1450.39 Q820.297 1450.39 823.353 1455 Q826.431 1459.58 826.431 1468.33 Q826.431 1477.06 823.353 1481.67 Q820.297 1486.25 814.487 1486.25 Q808.677 1486.25 805.598 1481.67 Q802.543 1477.06 802.543 1468.33 Q802.543 1459.58 805.598 1455 Q808.677 1450.39 814.487 1450.39 Z\" fill=\"#000000\" fill-rule=\"nonzero\" fill-opacity=\"1\" /><path clip-path=\"url(#clip290)\" d=\"M1262.9 1466.44 Q1259.75 1466.44 1257.9 1468.59 Q1256.07 1470.74 1256.07 1474.49 Q1256.07 1478.22 1257.9 1480.39 Q1259.75 1482.55 1262.9 1482.55 Q1266.04 1482.55 1267.87 1480.39 Q1269.73 1478.22 1269.73 1474.49 Q1269.73 1470.74 1267.87 1468.59 Q1266.04 1466.44 1262.9 1466.44 M1272.18 1451.78 L1272.18 1456.04 Q1270.42 1455.21 1268.61 1454.77 Q1266.83 1454.33 1265.07 1454.33 Q1260.44 1454.33 1257.99 1457.45 Q1255.56 1460.58 1255.21 1466.9 Q1256.58 1464.89 1258.64 1463.82 Q1260.7 1462.73 1263.17 1462.73 Q1268.38 1462.73 1271.39 1465.9 Q1274.42 1469.05 1274.42 1474.49 Q1274.42 1479.82 1271.28 1483.03 Q1268.13 1486.25 1262.9 1486.25 Q1256.9 1486.25 1253.73 1481.67 Q1250.56 1477.06 1250.56 1468.33 Q1250.56 1460.14 1254.45 1455.28 Q1258.34 1450.39 1264.89 1450.39 Q1266.65 1450.39 1268.43 1450.74 Q1270.23 1451.09 1272.18 1451.78 Z\" fill=\"#000000\" fill-rule=\"nonzero\" fill-opacity=\"1\" /><path clip-path=\"url(#clip290)\" d=\"M1292.48 1454.1 Q1288.87 1454.1 1287.04 1457.66 Q1285.23 1461.2 1285.23 1468.33 Q1285.23 1475.44 1287.04 1479.01 Q1288.87 1482.55 1292.48 1482.55 Q1296.11 1482.55 1297.92 1479.01 Q1299.75 1475.44 1299.75 1468.33 Q1299.75 1461.2 1297.92 1457.66 Q1296.11 1454.1 1292.48 1454.1 M1292.48 1450.39 Q1298.29 1450.39 1301.35 1455 Q1304.42 1459.58 1304.42 1468.33 Q1304.42 1477.06 1301.35 1481.67 Q1298.29 1486.25 1292.48 1486.25 Q1286.67 1486.25 1283.59 1481.67 Q1280.54 1477.06 1280.54 1468.33 Q1280.54 1459.58 1283.59 1455 Q1286.67 1450.39 1292.48 1450.39 Z\" fill=\"#000000\" fill-rule=\"nonzero\" fill-opacity=\"1\" /><path clip-path=\"url(#clip290)\" d=\"M1740.86 1469.17 Q1737.52 1469.17 1735.6 1470.95 Q1733.7 1472.73 1733.7 1475.86 Q1733.7 1478.98 1735.6 1480.77 Q1737.52 1482.55 1740.86 1482.55 Q1744.19 1482.55 1746.11 1480.77 Q1748.03 1478.96 1748.03 1475.86 Q1748.03 1472.73 1746.11 1470.95 Q1744.21 1469.17 1740.86 1469.17 M1736.18 1467.18 Q1733.17 1466.44 1731.48 1464.38 Q1729.81 1462.32 1729.81 1459.35 Q1729.81 1455.21 1732.75 1452.8 Q1735.72 1450.39 1740.86 1450.39 Q1746.02 1450.39 1748.96 1452.8 Q1751.9 1455.21 1751.9 1459.35 Q1751.9 1462.32 1750.21 1464.38 Q1748.54 1466.44 1745.55 1467.18 Q1748.93 1467.96 1750.81 1470.26 Q1752.71 1472.55 1752.71 1475.86 Q1752.71 1480.88 1749.63 1483.57 Q1746.57 1486.25 1740.86 1486.25 Q1735.14 1486.25 1732.06 1483.57 Q1729 1480.88 1729 1475.86 Q1729 1472.55 1730.9 1470.26 Q1732.8 1467.96 1736.18 1467.18 M1734.47 1459.79 Q1734.47 1462.48 1736.13 1463.98 Q1737.82 1465.49 1740.86 1465.49 Q1743.86 1465.49 1745.55 1463.98 Q1747.27 1462.48 1747.27 1459.79 Q1747.27 1457.11 1745.55 1455.6 Q1743.86 1454.1 1740.86 1454.1 Q1737.82 1454.1 1736.13 1455.6 Q1734.47 1457.11 1734.47 1459.79 Z\" fill=\"#000000\" fill-rule=\"nonzero\" fill-opacity=\"1\" /><path clip-path=\"url(#clip290)\" d=\"M1771.02 1454.1 Q1767.41 1454.1 1765.58 1457.66 Q1763.77 1461.2 1763.77 1468.33 Q1763.77 1475.44 1765.58 1479.01 Q1767.41 1482.55 1771.02 1482.55 Q1774.65 1482.55 1776.46 1479.01 Q1778.29 1475.44 1778.29 1468.33 Q1778.29 1461.2 1776.46 1457.66 Q1774.65 1454.1 1771.02 1454.1 M1771.02 1450.39 Q1776.83 1450.39 1779.88 1455 Q1782.96 1459.58 1782.96 1468.33 Q1782.96 1477.06 1779.88 1481.67 Q1776.83 1486.25 1771.02 1486.25 Q1765.21 1486.25 1762.13 1481.67 Q1759.07 1477.06 1759.07 1468.33 Q1759.07 1459.58 1762.13 1455 Q1765.21 1450.39 1771.02 1450.39 Z\" fill=\"#000000\" fill-rule=\"nonzero\" fill-opacity=\"1\" /><path clip-path=\"url(#clip290)\" d=\"M2194.08 1481.64 L2201.72 1481.64 L2201.72 1455.28 L2193.41 1456.95 L2193.41 1452.69 L2201.67 1451.02 L2206.35 1451.02 L2206.35 1481.64 L2213.99 1481.64 L2213.99 1485.58 L2194.08 1485.58 L2194.08 1481.64 Z\" fill=\"#000000\" fill-rule=\"nonzero\" fill-opacity=\"1\" /><path clip-path=\"url(#clip290)\" d=\"M2233.43 1454.1 Q2229.82 1454.1 2227.99 1457.66 Q2226.19 1461.2 2226.19 1468.33 Q2226.19 1475.44 2227.99 1479.01 Q2229.82 1482.55 2233.43 1482.55 Q2237.07 1482.55 2238.87 1479.01 Q2240.7 1475.44 2240.7 1468.33 Q2240.7 1461.2 2238.87 1457.66 Q2237.07 1454.1 2233.43 1454.1 M2233.43 1450.39 Q2239.24 1450.39 2242.3 1455 Q2245.38 1459.58 2245.38 1468.33 Q2245.38 1477.06 2242.3 1481.67 Q2239.24 1486.25 2233.43 1486.25 Q2227.62 1486.25 2224.54 1481.67 Q2221.49 1477.06 2221.49 1468.33 Q2221.49 1459.58 2224.54 1455 Q2227.62 1450.39 2233.43 1450.39 Z\" fill=\"#000000\" fill-rule=\"nonzero\" fill-opacity=\"1\" /><path clip-path=\"url(#clip290)\" d=\"M2263.59 1454.1 Q2259.98 1454.1 2258.15 1457.66 Q2256.35 1461.2 2256.35 1468.33 Q2256.35 1475.44 2258.15 1479.01 Q2259.98 1482.55 2263.59 1482.55 Q2267.23 1482.55 2269.03 1479.01 Q2270.86 1475.44 2270.86 1468.33 Q2270.86 1461.2 2269.03 1457.66 Q2267.23 1454.1 2263.59 1454.1 M2263.59 1450.39 Q2269.4 1450.39 2272.46 1455 Q2275.54 1459.58 2275.54 1468.33 Q2275.54 1477.06 2272.46 1481.67 Q2269.4 1486.25 2263.59 1486.25 Q2257.78 1486.25 2254.7 1481.67 Q2251.65 1477.06 2251.65 1468.33 Q2251.65 1459.58 2254.7 1455 Q2257.78 1450.39 2263.59 1450.39 Z\" fill=\"#000000\" fill-rule=\"nonzero\" fill-opacity=\"1\" /><path clip-path=\"url(#clip290)\" d=\"M1220.68 1522.08 L1220.68 1528.35 Q1217.02 1526.6 1213.77 1525.74 Q1210.52 1524.88 1207.5 1524.88 Q1202.25 1524.88 1199.38 1526.92 Q1196.55 1528.96 1196.55 1532.71 Q1196.55 1535.87 1198.43 1537.49 Q1200.34 1539.08 1205.62 1540.07 L1209.51 1540.86 Q1216.7 1542.23 1220.1 1545.7 Q1223.54 1549.14 1223.54 1554.93 Q1223.54 1561.84 1218.9 1565.4 Q1214.28 1568.97 1205.34 1568.97 Q1201.96 1568.97 1198.14 1568.2 Q1194.36 1567.44 1190.28 1565.94 L1190.28 1559.32 Q1194.2 1561.52 1197.95 1562.63 Q1201.71 1563.75 1205.34 1563.75 Q1210.84 1563.75 1213.83 1561.58 Q1216.83 1559.42 1216.83 1555.41 Q1216.83 1551.91 1214.66 1549.93 Q1212.53 1547.96 1207.63 1546.97 L1203.71 1546.21 Q1196.52 1544.78 1193.31 1541.72 Q1190.09 1538.67 1190.09 1533.22 Q1190.09 1526.92 1194.51 1523.29 Q1198.97 1519.66 1206.77 1519.66 Q1210.11 1519.66 1213.58 1520.27 Q1217.05 1520.87 1220.68 1522.08 Z\" fill=\"#000000\" fill-rule=\"nonzero\" fill-opacity=\"1\" /><path clip-path=\"url(#clip290)\" d=\"M1258.97 1533.76 L1258.97 1539.24 Q1256.48 1537.87 1253.97 1537.2 Q1251.49 1536.5 1248.94 1536.5 Q1243.24 1536.5 1240.09 1540.13 Q1236.94 1543.73 1236.94 1550.25 Q1236.94 1556.78 1240.09 1560.4 Q1243.24 1564 1248.94 1564 Q1251.49 1564 1253.97 1563.33 Q1256.48 1562.63 1258.97 1561.26 L1258.97 1566.68 Q1256.52 1567.82 1253.87 1568.39 Q1251.26 1568.97 1248.3 1568.97 Q1240.25 1568.97 1235.51 1563.91 Q1230.77 1558.85 1230.77 1550.25 Q1230.77 1541.53 1235.54 1536.53 Q1240.35 1531.54 1248.69 1531.54 Q1251.39 1531.54 1253.97 1532.11 Q1256.55 1532.65 1258.97 1533.76 Z\" fill=\"#000000\" fill-rule=\"nonzero\" fill-opacity=\"1\" /><path clip-path=\"url(#clip290)\" d=\"M1282.97 1536.5 Q1278.26 1536.5 1275.52 1540.19 Q1272.78 1543.85 1272.78 1550.25 Q1272.78 1556.65 1275.49 1560.34 Q1278.22 1564 1282.97 1564 Q1287.64 1564 1290.38 1560.31 Q1293.12 1556.62 1293.12 1550.25 Q1293.12 1543.92 1290.38 1540.23 Q1287.64 1536.5 1282.97 1536.5 M1282.97 1531.54 Q1290.61 1531.54 1294.97 1536.5 Q1299.33 1541.47 1299.33 1550.25 Q1299.33 1559 1294.97 1564 Q1290.61 1568.97 1282.97 1568.97 Q1275.3 1568.97 1270.94 1564 Q1266.61 1559 1266.61 1550.25 Q1266.61 1541.47 1270.94 1536.5 Q1275.3 1531.54 1282.97 1531.54 Z\" fill=\"#000000\" fill-rule=\"nonzero\" fill-opacity=\"1\" /><path clip-path=\"url(#clip290)\" d=\"M1329.69 1537.87 Q1328.7 1537.3 1327.53 1537.04 Q1326.38 1536.76 1324.98 1536.76 Q1320.01 1536.76 1317.34 1540 Q1314.7 1543.22 1314.7 1549.27 L1314.7 1568.04 L1308.81 1568.04 L1308.81 1532.4 L1314.7 1532.4 L1314.7 1537.93 Q1316.55 1534.69 1319.51 1533.13 Q1322.47 1531.54 1326.7 1531.54 Q1327.3 1531.54 1328.04 1531.63 Q1328.77 1531.7 1329.66 1531.85 L1329.69 1537.87 Z\" fill=\"#000000\" fill-rule=\"nonzero\" fill-opacity=\"1\" /><path clip-path=\"url(#clip290)\" d=\"M1364.89 1548.76 L1364.89 1551.62 L1337.97 1551.62 Q1338.35 1557.67 1341.59 1560.85 Q1344.87 1564 1350.7 1564 Q1354.07 1564 1357.22 1563.17 Q1360.41 1562.35 1363.52 1560.69 L1363.52 1566.23 Q1360.37 1567.57 1357.06 1568.27 Q1353.75 1568.97 1350.35 1568.97 Q1341.82 1568.97 1336.82 1564 Q1331.85 1559.04 1331.85 1550.57 Q1331.85 1541.82 1336.57 1536.69 Q1341.31 1531.54 1349.33 1531.54 Q1356.52 1531.54 1360.69 1536.18 Q1364.89 1540.8 1364.89 1548.76 M1359.04 1547.04 Q1358.97 1542.23 1356.33 1539.37 Q1353.72 1536.5 1349.39 1536.5 Q1344.49 1536.5 1341.53 1539.27 Q1338.6 1542.04 1338.16 1547.07 L1359.04 1547.04 Z\" fill=\"#000000\" fill-rule=\"nonzero\" fill-opacity=\"1\" /><polyline clip-path=\"url(#clip292)\" style=\"stroke:#000000; stroke-linecap:round; stroke-linejoin:round; stroke-width:2; stroke-opacity:0.1; fill:none\" points=\"202.227,1423.18 2352.76,1423.18 \"/>\n",
       "<polyline clip-path=\"url(#clip292)\" style=\"stroke:#000000; stroke-linecap:round; stroke-linejoin:round; stroke-width:2; stroke-opacity:0.1; fill:none\" points=\"202.227,1163.24 2352.76,1163.24 \"/>\n",
       "<polyline clip-path=\"url(#clip292)\" style=\"stroke:#000000; stroke-linecap:round; stroke-linejoin:round; stroke-width:2; stroke-opacity:0.1; fill:none\" points=\"202.227,903.297 2352.76,903.297 \"/>\n",
       "<polyline clip-path=\"url(#clip292)\" style=\"stroke:#000000; stroke-linecap:round; stroke-linejoin:round; stroke-width:2; stroke-opacity:0.1; fill:none\" points=\"202.227,643.355 2352.76,643.355 \"/>\n",
       "<polyline clip-path=\"url(#clip292)\" style=\"stroke:#000000; stroke-linecap:round; stroke-linejoin:round; stroke-width:2; stroke-opacity:0.1; fill:none\" points=\"202.227,383.414 2352.76,383.414 \"/>\n",
       "<polyline clip-path=\"url(#clip292)\" style=\"stroke:#000000; stroke-linecap:round; stroke-linejoin:round; stroke-width:2; stroke-opacity:0.1; fill:none\" points=\"202.227,123.472 2352.76,123.472 \"/>\n",
       "<polyline clip-path=\"url(#clip290)\" style=\"stroke:#000000; stroke-linecap:round; stroke-linejoin:round; stroke-width:4; stroke-opacity:1; fill:none\" points=\"202.227,1423.18 202.227,123.472 \"/>\n",
       "<polyline clip-path=\"url(#clip290)\" style=\"stroke:#000000; stroke-linecap:round; stroke-linejoin:round; stroke-width:4; stroke-opacity:1; fill:none\" points=\"202.227,1423.18 221.125,1423.18 \"/>\n",
       "<polyline clip-path=\"url(#clip290)\" style=\"stroke:#000000; stroke-linecap:round; stroke-linejoin:round; stroke-width:4; stroke-opacity:1; fill:none\" points=\"202.227,1163.24 221.125,1163.24 \"/>\n",
       "<polyline clip-path=\"url(#clip290)\" style=\"stroke:#000000; stroke-linecap:round; stroke-linejoin:round; stroke-width:4; stroke-opacity:1; fill:none\" points=\"202.227,903.297 221.125,903.297 \"/>\n",
       "<polyline clip-path=\"url(#clip290)\" style=\"stroke:#000000; stroke-linecap:round; stroke-linejoin:round; stroke-width:4; stroke-opacity:1; fill:none\" points=\"202.227,643.355 221.125,643.355 \"/>\n",
       "<polyline clip-path=\"url(#clip290)\" style=\"stroke:#000000; stroke-linecap:round; stroke-linejoin:round; stroke-width:4; stroke-opacity:1; fill:none\" points=\"202.227,383.414 221.125,383.414 \"/>\n",
       "<polyline clip-path=\"url(#clip290)\" style=\"stroke:#000000; stroke-linecap:round; stroke-linejoin:round; stroke-width:4; stroke-opacity:1; fill:none\" points=\"202.227,123.472 221.125,123.472 \"/>\n",
       "<path clip-path=\"url(#clip290)\" d=\"M154.283 1408.98 Q150.672 1408.98 148.843 1412.54 Q147.038 1416.08 147.038 1423.21 Q147.038 1430.32 148.843 1433.89 Q150.672 1437.43 154.283 1437.43 Q157.917 1437.43 159.723 1433.89 Q161.552 1430.32 161.552 1423.21 Q161.552 1416.08 159.723 1412.54 Q157.917 1408.98 154.283 1408.98 M154.283 1405.27 Q160.093 1405.27 163.149 1409.88 Q166.227 1414.46 166.227 1423.21 Q166.227 1431.94 163.149 1436.55 Q160.093 1441.13 154.283 1441.13 Q148.473 1441.13 145.394 1436.55 Q142.339 1431.94 142.339 1423.21 Q142.339 1414.46 145.394 1409.88 Q148.473 1405.27 154.283 1405.27 Z\" fill=\"#000000\" fill-rule=\"nonzero\" fill-opacity=\"1\" /><path clip-path=\"url(#clip290)\" d=\"M149.908 1176.58 L166.227 1176.58 L166.227 1180.52 L144.283 1180.52 L144.283 1176.58 Q146.945 1173.83 151.528 1169.2 Q156.135 1164.55 157.315 1163.2 Q159.561 1160.68 160.44 1158.94 Q161.343 1157.19 161.343 1155.5 Q161.343 1152.74 159.399 1151 Q157.478 1149.27 154.376 1149.27 Q152.177 1149.27 149.723 1150.03 Q147.292 1150.8 144.515 1152.35 L144.515 1147.62 Q147.339 1146.49 149.792 1145.91 Q152.246 1145.33 154.283 1145.33 Q159.653 1145.33 162.848 1148.02 Q166.042 1150.7 166.042 1155.19 Q166.042 1157.32 165.232 1159.25 Q164.445 1161.14 162.339 1163.74 Q161.76 1164.41 158.658 1167.62 Q155.556 1170.82 149.908 1176.58 Z\" fill=\"#000000\" fill-rule=\"nonzero\" fill-opacity=\"1\" /><path clip-path=\"url(#clip290)\" d=\"M156.644 890.091 L144.839 908.54 L156.644 908.54 L156.644 890.091 M155.417 886.017 L161.297 886.017 L161.297 908.54 L166.227 908.54 L166.227 912.429 L161.297 912.429 L161.297 920.577 L156.644 920.577 L156.644 912.429 L141.042 912.429 L141.042 907.915 L155.417 886.017 Z\" fill=\"#000000\" fill-rule=\"nonzero\" fill-opacity=\"1\" /><path clip-path=\"url(#clip290)\" d=\"M154.7 641.492 Q151.552 641.492 149.7 643.645 Q147.871 645.797 147.871 649.547 Q147.871 653.274 149.7 655.45 Q151.552 657.603 154.7 657.603 Q157.848 657.603 159.677 655.45 Q161.528 653.274 161.528 649.547 Q161.528 645.797 159.677 643.645 Q157.848 641.492 154.7 641.492 M163.982 626.839 L163.982 631.098 Q162.223 630.265 160.417 629.825 Q158.635 629.385 156.876 629.385 Q152.246 629.385 149.792 632.51 Q147.362 635.635 147.015 641.955 Q148.38 639.941 150.441 638.876 Q152.501 637.788 154.978 637.788 Q160.186 637.788 163.195 640.959 Q166.227 644.108 166.227 649.547 Q166.227 654.871 163.079 658.089 Q159.931 661.307 154.7 661.307 Q148.704 661.307 145.533 656.723 Q142.362 652.117 142.362 643.39 Q142.362 635.196 146.251 630.334 Q150.14 625.45 156.69 625.45 Q158.45 625.45 160.232 625.797 Q162.038 626.145 163.982 626.839 Z\" fill=\"#000000\" fill-rule=\"nonzero\" fill-opacity=\"1\" /><path clip-path=\"url(#clip290)\" d=\"M154.376 384.282 Q151.042 384.282 149.121 386.064 Q147.223 387.847 147.223 390.971 Q147.223 394.096 149.121 395.879 Q151.042 397.661 154.376 397.661 Q157.709 397.661 159.63 395.879 Q161.552 394.073 161.552 390.971 Q161.552 387.847 159.63 386.064 Q157.732 384.282 154.376 384.282 M149.7 382.291 Q146.691 381.55 145.001 379.49 Q143.334 377.43 143.334 374.467 Q143.334 370.323 146.274 367.916 Q149.237 365.509 154.376 365.509 Q159.538 365.509 162.477 367.916 Q165.417 370.323 165.417 374.467 Q165.417 377.43 163.727 379.49 Q162.061 381.55 159.075 382.291 Q162.454 383.078 164.329 385.37 Q166.227 387.661 166.227 390.971 Q166.227 395.995 163.149 398.68 Q160.093 401.365 154.376 401.365 Q148.658 401.365 145.579 398.68 Q142.524 395.995 142.524 390.971 Q142.524 387.661 144.422 385.37 Q146.32 383.078 149.7 382.291 M147.987 374.907 Q147.987 377.592 149.653 379.097 Q151.343 380.601 154.376 380.601 Q157.385 380.601 159.075 379.097 Q160.788 377.592 160.788 374.907 Q160.788 372.222 159.075 370.717 Q157.385 369.212 154.376 369.212 Q151.343 369.212 149.653 370.717 Q147.987 372.222 147.987 374.907 Z\" fill=\"#000000\" fill-rule=\"nonzero\" fill-opacity=\"1\" /><path clip-path=\"url(#clip290)\" d=\"M114.931 136.817 L122.57 136.817 L122.57 110.451 L114.26 112.118 L114.26 107.859 L122.524 106.192 L127.2 106.192 L127.2 136.817 L134.839 136.817 L134.839 140.752 L114.931 140.752 L114.931 136.817 Z\" fill=\"#000000\" fill-rule=\"nonzero\" fill-opacity=\"1\" /><path clip-path=\"url(#clip290)\" d=\"M154.283 109.271 Q150.672 109.271 148.843 112.836 Q147.038 116.377 147.038 123.507 Q147.038 130.613 148.843 134.178 Q150.672 137.72 154.283 137.72 Q157.917 137.72 159.723 134.178 Q161.552 130.613 161.552 123.507 Q161.552 116.377 159.723 112.836 Q157.917 109.271 154.283 109.271 M154.283 105.567 Q160.093 105.567 163.149 110.174 Q166.227 114.757 166.227 123.507 Q166.227 132.234 163.149 136.84 Q160.093 141.423 154.283 141.423 Q148.473 141.423 145.394 136.84 Q142.339 132.234 142.339 123.507 Q142.339 114.757 145.394 110.174 Q148.473 105.567 154.283 105.567 Z\" fill=\"#000000\" fill-rule=\"nonzero\" fill-opacity=\"1\" /><path clip-path=\"url(#clip290)\" d=\"M16.4842 937.529 L16.4842 910.221 L21.895 910.221 L21.895 931.1 L35.8996 931.1 L35.8996 912.258 L41.3104 912.258 L41.3104 931.1 L64.0042 931.1 L64.0042 937.529 L16.4842 937.529 Z\" fill=\"#000000\" fill-rule=\"nonzero\" fill-opacity=\"1\" /><path clip-path=\"url(#clip290)\" d=\"M33.8307 884.376 Q33.2578 885.362 33.0032 886.54 Q32.7167 887.686 32.7167 889.086 Q32.7167 894.052 35.9632 896.725 Q39.1779 899.367 45.2253 899.367 L64.0042 899.367 L64.0042 905.255 L28.3562 905.255 L28.3562 899.367 L33.8944 899.367 Q30.6479 897.521 29.0883 894.561 Q27.4968 891.601 27.4968 887.368 Q27.4968 886.763 27.5923 886.031 Q27.656 885.299 27.8151 884.408 L33.8307 884.376 Z\" fill=\"#000000\" fill-rule=\"nonzero\" fill-opacity=\"1\" /><path clip-path=\"url(#clip290)\" d=\"M44.7161 849.173 L47.5806 849.173 L47.5806 876.1 Q53.6281 875.718 56.8109 872.472 Q59.9619 869.194 59.9619 863.369 Q59.9619 859.995 59.1344 856.844 Q58.3069 853.661 56.6518 850.542 L62.1899 850.542 Q63.5267 853.693 64.227 857.003 Q64.9272 860.313 64.9272 863.719 Q64.9272 872.249 59.9619 877.246 Q54.9967 882.211 46.5303 882.211 Q37.7774 882.211 32.6531 877.501 Q27.4968 872.758 27.4968 864.738 Q27.4968 857.544 32.1438 853.375 Q36.7589 849.173 44.7161 849.173 M42.9973 855.03 Q38.1912 855.093 35.3266 857.735 Q32.4621 860.345 32.4621 864.674 Q32.4621 869.575 35.2312 872.536 Q38.0002 875.464 43.0292 875.909 L42.9973 855.03 Z\" fill=\"#000000\" fill-rule=\"nonzero\" fill-opacity=\"1\" /><path clip-path=\"url(#clip290)\" d=\"M46.212 836.06 Q52.6732 836.06 56.3653 833.418 Q60.0256 830.745 60.0256 826.098 Q60.0256 821.451 56.3653 818.777 Q52.6732 816.104 46.212 816.104 Q39.7508 816.104 36.0905 818.777 Q32.3984 821.451 32.3984 826.098 Q32.3984 830.745 36.0905 833.418 Q39.7508 836.06 46.212 836.06 M58.657 816.104 Q61.8398 817.95 63.3994 820.782 Q64.9272 823.583 64.9272 827.53 Q64.9272 833.991 59.771 838.065 Q54.6147 842.107 46.212 842.107 Q37.8093 842.107 32.6531 838.065 Q27.4968 833.991 27.4968 827.53 Q27.4968 823.583 29.0564 820.782 Q30.5842 817.95 33.7671 816.104 L28.3562 816.104 L28.3562 810.247 L77.5631 810.247 L77.5631 816.104 L58.657 816.104 Z\" fill=\"#000000\" fill-rule=\"nonzero\" fill-opacity=\"1\" /><path clip-path=\"url(#clip290)\" d=\"M49.9359 798.789 L28.3562 798.789 L28.3562 792.932 L49.7131 792.932 Q54.7739 792.932 57.3202 790.959 Q59.8346 788.986 59.8346 785.039 Q59.8346 780.296 56.8109 777.559 Q53.7872 774.79 48.5673 774.79 L28.3562 774.79 L28.3562 768.934 L64.0042 768.934 L64.0042 774.79 L58.5296 774.79 Q61.7762 776.923 63.3676 779.755 Q64.9272 782.556 64.9272 786.28 Q64.9272 792.423 61.1078 795.606 Q57.2883 798.789 49.9359 798.789 M27.4968 784.052 L27.4968 784.052 Z\" fill=\"#000000\" fill-rule=\"nonzero\" fill-opacity=\"1\" /><path clip-path=\"url(#clip290)\" d=\"M44.7161 726.379 L47.5806 726.379 L47.5806 753.306 Q53.6281 752.924 56.8109 749.677 Q59.9619 746.399 59.9619 740.574 Q59.9619 737.201 59.1344 734.05 Q58.3069 730.867 56.6518 727.748 L62.1899 727.748 Q63.5267 730.899 64.227 734.209 Q64.9272 737.519 64.9272 740.925 Q64.9272 749.455 59.9619 754.452 Q54.9967 759.417 46.5303 759.417 Q37.7774 759.417 32.6531 754.706 Q27.4968 749.964 27.4968 741.943 Q27.4968 734.75 32.1438 730.58 Q36.7589 726.379 44.7161 726.379 M42.9973 732.235 Q38.1912 732.299 35.3266 734.941 Q32.4621 737.551 32.4621 741.879 Q32.4621 746.781 35.2312 749.741 Q38.0002 752.669 43.0292 753.115 L42.9973 732.235 Z\" fill=\"#000000\" fill-rule=\"nonzero\" fill-opacity=\"1\" /><path clip-path=\"url(#clip290)\" d=\"M42.4881 687.134 L64.0042 687.134 L64.0042 692.991 L42.679 692.991 Q37.6183 692.991 35.1038 694.964 Q32.5894 696.938 32.5894 700.884 Q32.5894 705.627 35.6131 708.364 Q38.6368 711.101 43.8567 711.101 L64.0042 711.101 L64.0042 716.989 L28.3562 716.989 L28.3562 711.101 L33.8944 711.101 Q30.6797 709.001 29.0883 706.168 Q27.4968 703.303 27.4968 699.579 Q27.4968 693.436 31.3163 690.285 Q35.1038 687.134 42.4881 687.134 Z\" fill=\"#000000\" fill-rule=\"nonzero\" fill-opacity=\"1\" /><path clip-path=\"url(#clip290)\" d=\"M29.7248 649.799 L35.1993 649.799 Q33.8307 652.282 33.1623 654.797 Q32.4621 657.279 32.4621 659.825 Q32.4621 665.523 36.0905 668.674 Q39.6872 671.825 46.212 671.825 Q52.7369 671.825 56.3653 668.674 Q59.9619 665.523 59.9619 659.825 Q59.9619 657.279 59.2935 654.797 Q58.5933 652.282 57.2247 649.799 L62.6355 649.799 Q63.7814 652.25 64.3543 654.892 Q64.9272 657.502 64.9272 660.462 Q64.9272 668.515 59.8664 673.257 Q54.8057 678 46.212 678 Q37.491 678 32.4939 673.225 Q27.4968 668.419 27.4968 660.08 Q27.4968 657.375 28.0697 654.797 Q28.6108 652.218 29.7248 649.799 Z\" fill=\"#000000\" fill-rule=\"nonzero\" fill-opacity=\"1\" /><path clip-path=\"url(#clip290)\" d=\"M67.3143 624.782 Q73.68 627.265 75.6216 629.62 Q77.5631 631.975 77.5631 635.922 L77.5631 640.601 L72.6615 640.601 L72.6615 637.164 Q72.6615 634.745 71.5157 633.408 Q70.3699 632.071 66.1048 630.448 L63.4312 629.397 L28.3562 643.816 L28.3562 637.609 L56.238 626.469 L28.3562 615.329 L28.3562 609.123 L67.3143 624.782 Z\" fill=\"#000000\" fill-rule=\"nonzero\" fill-opacity=\"1\" /><path clip-path=\"url(#clip290)\" d=\"M886.053 12.096 L894.236 12.096 L894.236 36.8875 L923.969 36.8875 L923.969 12.096 L932.152 12.096 L932.152 72.576 L923.969 72.576 L923.969 43.7741 L894.236 43.7741 L894.236 72.576 L886.053 72.576 L886.053 12.096 Z\" fill=\"#000000\" fill-rule=\"nonzero\" fill-opacity=\"1\" /><path clip-path=\"url(#clip290)\" d=\"M948.113 27.2059 L955.566 27.2059 L955.566 72.576 L948.113 72.576 L948.113 27.2059 M948.113 9.54393 L955.566 9.54393 L955.566 18.9825 L948.113 18.9825 L948.113 9.54393 Z\" fill=\"#000000\" fill-rule=\"nonzero\" fill-opacity=\"1\" /><path clip-path=\"url(#clip290)\" d=\"M1000.09 28.5427 L1000.09 35.5912 Q996.926 33.9709 993.523 33.1607 Q990.121 32.3505 986.475 32.3505 Q980.925 32.3505 978.13 34.0519 Q975.375 35.7533 975.375 39.156 Q975.375 41.7486 977.36 43.2475 Q979.345 44.7058 985.34 46.0426 L987.893 46.6097 Q995.832 48.3111 999.154 51.4303 Q1002.52 54.509 1002.52 60.0587 Q1002.52 66.3781 997.493 70.0644 Q992.511 73.7508 983.761 73.7508 Q980.115 73.7508 976.145 73.0216 Q972.216 72.3329 967.841 70.9151 L967.841 63.2184 Q971.972 65.3654 975.983 66.4591 Q979.993 67.5124 983.923 67.5124 Q989.189 67.5124 992.024 65.73 Q994.86 63.9071 994.86 60.6258 Q994.86 57.5877 992.794 55.9673 Q990.769 54.3469 983.842 52.8481 L981.249 52.2405 Q974.322 50.7821 971.243 47.7845 Q968.165 44.7463 968.165 39.4801 Q968.165 33.0797 972.702 29.5959 Q977.239 26.1121 985.584 26.1121 Q989.715 26.1121 993.361 26.7198 Q997.007 27.3274 1000.09 28.5427 Z\" fill=\"#000000\" fill-rule=\"nonzero\" fill-opacity=\"1\" /><path clip-path=\"url(#clip290)\" d=\"M1021.76 14.324 L1021.76 27.2059 L1037.11 27.2059 L1037.11 32.9987 L1021.76 32.9987 L1021.76 57.6282 Q1021.76 63.1779 1023.26 64.7578 Q1024.8 66.3376 1029.45 66.3376 L1037.11 66.3376 L1037.11 72.576 L1029.45 72.576 Q1020.83 72.576 1017.55 69.3758 Q1014.26 66.1351 1014.26 57.6282 L1014.26 32.9987 L1008.8 32.9987 L1008.8 27.2059 L1014.26 27.2059 L1014.26 14.324 L1021.76 14.324 Z\" fill=\"#000000\" fill-rule=\"nonzero\" fill-opacity=\"1\" /><path clip-path=\"url(#clip290)\" d=\"M1064.5 32.4315 Q1058.5 32.4315 1055.02 37.1306 Q1051.53 41.7891 1051.53 49.9314 Q1051.53 58.0738 1054.98 62.7728 Q1058.46 67.4314 1064.5 67.4314 Q1070.45 67.4314 1073.93 62.7323 Q1077.42 58.0333 1077.42 49.9314 Q1077.42 41.8701 1073.93 37.1711 Q1070.45 32.4315 1064.5 32.4315 M1064.5 26.1121 Q1074.22 26.1121 1079.77 32.4315 Q1085.32 38.7509 1085.32 49.9314 Q1085.32 61.0714 1079.77 67.4314 Q1074.22 73.7508 1064.5 73.7508 Q1054.73 73.7508 1049.18 67.4314 Q1043.67 61.0714 1043.67 49.9314 Q1043.67 38.7509 1049.18 32.4315 Q1054.73 26.1121 1064.5 26.1121 Z\" fill=\"#000000\" fill-rule=\"nonzero\" fill-opacity=\"1\" /><path clip-path=\"url(#clip290)\" d=\"M1127.53 49.3643 Q1127.53 41.2625 1124.16 36.8065 Q1120.84 32.3505 1114.81 32.3505 Q1108.81 32.3505 1105.45 36.8065 Q1102.13 41.2625 1102.13 49.3643 Q1102.13 57.4256 1105.45 61.8816 Q1108.81 66.3376 1114.81 66.3376 Q1120.84 66.3376 1124.16 61.8816 Q1127.53 57.4256 1127.53 49.3643 M1134.98 66.9452 Q1134.98 78.5308 1129.84 84.1616 Q1124.69 89.8329 1114.08 89.8329 Q1110.15 89.8329 1106.67 89.2252 Q1103.18 88.6581 1099.9 87.4428 L1099.9 80.1917 Q1103.18 81.9741 1106.38 82.8248 Q1109.58 83.6755 1112.9 83.6755 Q1120.24 83.6755 1123.88 79.8271 Q1127.53 76.0193 1127.53 68.282 L1127.53 64.5957 Q1125.22 68.6061 1121.61 70.5911 Q1118.01 72.576 1112.98 72.576 Q1104.64 72.576 1099.54 66.2161 Q1094.43 59.8562 1094.43 49.3643 Q1094.43 38.832 1099.54 32.472 Q1104.64 26.1121 1112.98 26.1121 Q1118.01 26.1121 1121.61 28.0971 Q1125.22 30.082 1127.53 34.0924 L1127.53 27.2059 L1134.98 27.2059 L1134.98 66.9452 Z\" fill=\"#000000\" fill-rule=\"nonzero\" fill-opacity=\"1\" /><path clip-path=\"url(#clip290)\" d=\"M1176.62 34.1734 Q1175.37 33.4443 1173.87 33.1202 Q1172.41 32.7556 1170.63 32.7556 Q1164.31 32.7556 1160.91 36.8875 Q1157.54 40.9789 1157.54 48.6757 L1157.54 72.576 L1150.05 72.576 L1150.05 27.2059 L1157.54 27.2059 L1157.54 34.2544 Q1159.89 30.1225 1163.66 28.1376 Q1167.43 26.1121 1172.82 26.1121 Q1173.59 26.1121 1174.52 26.2337 Q1175.45 26.3147 1176.58 26.5172 L1176.62 34.1734 Z\" fill=\"#000000\" fill-rule=\"nonzero\" fill-opacity=\"1\" /><path clip-path=\"url(#clip290)\" d=\"M1205.06 49.7694 Q1196.03 49.7694 1192.54 51.8354 Q1189.06 53.9013 1189.06 58.8839 Q1189.06 62.8538 1191.65 65.2034 Q1194.29 67.5124 1198.78 67.5124 Q1204.98 67.5124 1208.71 63.1374 Q1212.47 58.7219 1212.47 51.4303 L1212.47 49.7694 L1205.06 49.7694 M1219.93 46.6907 L1219.93 72.576 L1212.47 72.576 L1212.47 65.6895 Q1209.92 69.8214 1206.11 71.8063 Q1202.31 73.7508 1196.8 73.7508 Q1189.83 73.7508 1185.7 69.8619 Q1181.61 65.9325 1181.61 59.3701 Q1181.61 51.7138 1186.71 47.825 Q1191.86 43.9361 1202.02 43.9361 L1212.47 43.9361 L1212.47 43.2069 Q1212.47 38.0623 1209.07 35.2672 Q1205.71 32.4315 1199.59 32.4315 Q1195.7 32.4315 1192.02 33.3632 Q1188.33 34.295 1184.93 36.1584 L1184.93 29.2718 Q1189.02 27.692 1192.87 26.9223 Q1196.72 26.1121 1200.36 26.1121 Q1210.21 26.1121 1215.07 31.2163 Q1219.93 36.3204 1219.93 46.6907 Z\" fill=\"#000000\" fill-rule=\"nonzero\" fill-opacity=\"1\" /><path clip-path=\"url(#clip290)\" d=\"M1270.61 35.9153 Q1273.4 30.8922 1277.29 28.5022 Q1281.18 26.1121 1286.44 26.1121 Q1293.53 26.1121 1297.38 31.0947 Q1301.23 36.0368 1301.23 45.1919 L1301.23 72.576 L1293.74 72.576 L1293.74 45.4349 Q1293.74 38.913 1291.43 35.7533 Q1289.12 32.5936 1284.38 32.5936 Q1278.59 32.5936 1275.22 36.4419 Q1271.86 40.2903 1271.86 46.9338 L1271.86 72.576 L1264.37 72.576 L1264.37 45.4349 Q1264.37 38.8725 1262.06 35.7533 Q1259.75 32.5936 1254.93 32.5936 Q1249.22 32.5936 1245.85 36.4824 Q1242.49 40.3308 1242.49 46.9338 L1242.49 72.576 L1235 72.576 L1235 27.2059 L1242.49 27.2059 L1242.49 34.2544 Q1245.04 30.082 1248.61 28.0971 Q1252.17 26.1121 1257.08 26.1121 Q1262.02 26.1121 1265.46 28.6237 Q1268.94 31.1352 1270.61 35.9153 Z\" fill=\"#000000\" fill-rule=\"nonzero\" fill-opacity=\"1\" /><path clip-path=\"url(#clip290)\" d=\"M1360.05 32.4315 Q1354.05 32.4315 1350.57 37.1306 Q1347.09 41.7891 1347.09 49.9314 Q1347.09 58.0738 1350.53 62.7728 Q1354.01 67.4314 1360.05 67.4314 Q1366 67.4314 1369.49 62.7323 Q1372.97 58.0333 1372.97 49.9314 Q1372.97 41.8701 1369.49 37.1711 Q1366 32.4315 1360.05 32.4315 M1360.05 26.1121 Q1369.77 26.1121 1375.32 32.4315 Q1380.87 38.7509 1380.87 49.9314 Q1380.87 61.0714 1375.32 67.4314 Q1369.77 73.7508 1360.05 73.7508 Q1350.29 73.7508 1344.74 67.4314 Q1339.23 61.0714 1339.23 49.9314 Q1339.23 38.7509 1344.74 32.4315 Q1350.29 26.1121 1360.05 26.1121 Z\" fill=\"#000000\" fill-rule=\"nonzero\" fill-opacity=\"1\" /><path clip-path=\"url(#clip290)\" d=\"M1416.19 9.54393 L1416.19 15.7418 L1409.07 15.7418 Q1405.05 15.7418 1403.47 17.3622 Q1401.94 18.9825 1401.94 23.1955 L1401.94 27.2059 L1414.21 27.2059 L1414.21 32.9987 L1401.94 32.9987 L1401.94 72.576 L1394.44 72.576 L1394.44 32.9987 L1387.31 32.9987 L1387.31 27.2059 L1394.44 27.2059 L1394.44 24.0462 Q1394.44 16.471 1397.97 13.0277 Q1401.49 9.54393 1409.15 9.54393 L1416.19 9.54393 Z\" fill=\"#000000\" fill-rule=\"nonzero\" fill-opacity=\"1\" /><path clip-path=\"url(#clip290)\" d=\"M1485.38 14.0809 L1485.38 22.0612 Q1480.73 19.8332 1476.59 18.7395 Q1472.46 17.6457 1468.61 17.6457 Q1461.93 17.6457 1458.28 20.2383 Q1454.68 22.8309 1454.68 27.611 Q1454.68 31.6214 1457.07 33.6873 Q1459.5 35.7128 1466.22 36.9686 L1471.17 37.9813 Q1480.32 39.7232 1484.65 44.1387 Q1489.03 48.5136 1489.03 55.8863 Q1489.03 64.6767 1483.12 69.2137 Q1477.24 73.7508 1465.86 73.7508 Q1461.56 73.7508 1456.7 72.7785 Q1451.88 71.8063 1446.7 69.9024 L1446.7 61.4765 Q1451.68 64.2716 1456.46 65.6895 Q1461.24 67.1073 1465.86 67.1073 Q1472.87 67.1073 1476.67 64.3527 Q1480.48 61.598 1480.48 56.4939 Q1480.48 52.0379 1477.73 49.5264 Q1475.01 47.0148 1468.78 45.759 L1463.79 44.7868 Q1454.64 42.9639 1450.55 39.075 Q1446.45 35.1862 1446.45 28.2591 Q1446.45 20.2383 1452.09 15.6203 Q1457.76 11.0023 1467.68 11.0023 Q1471.94 11.0023 1476.35 11.7719 Q1480.77 12.5416 1485.38 14.0809 Z\" fill=\"#000000\" fill-rule=\"nonzero\" fill-opacity=\"1\" /><path clip-path=\"url(#clip290)\" d=\"M1534.12 28.9478 L1534.12 35.9153 Q1530.96 34.1734 1527.76 33.3227 Q1524.6 32.4315 1521.36 32.4315 Q1514.11 32.4315 1510.09 37.0496 Q1506.08 41.6271 1506.08 49.9314 Q1506.08 58.2358 1510.09 62.8538 Q1514.11 67.4314 1521.36 67.4314 Q1524.6 67.4314 1527.76 66.5807 Q1530.96 65.6895 1534.12 63.9476 L1534.12 70.8341 Q1531 72.2924 1527.64 73.0216 Q1524.31 73.7508 1520.55 73.7508 Q1510.3 73.7508 1504.26 67.3098 Q1498.23 60.8689 1498.23 49.9314 Q1498.23 38.832 1504.3 32.472 Q1510.42 26.1121 1521.03 26.1121 Q1524.48 26.1121 1527.76 26.8413 Q1531.04 27.5299 1534.12 28.9478 Z\" fill=\"#000000\" fill-rule=\"nonzero\" fill-opacity=\"1\" /><path clip-path=\"url(#clip290)\" d=\"M1564.66 32.4315 Q1558.66 32.4315 1555.18 37.1306 Q1551.7 41.7891 1551.7 49.9314 Q1551.7 58.0738 1555.14 62.7728 Q1558.62 67.4314 1564.66 67.4314 Q1570.62 67.4314 1574.1 62.7323 Q1577.58 58.0333 1577.58 49.9314 Q1577.58 41.8701 1574.1 37.1711 Q1570.62 32.4315 1564.66 32.4315 M1564.66 26.1121 Q1574.38 26.1121 1579.93 32.4315 Q1585.48 38.7509 1585.48 49.9314 Q1585.48 61.0714 1579.93 67.4314 Q1574.38 73.7508 1564.66 73.7508 Q1554.9 73.7508 1549.35 67.4314 Q1543.84 61.0714 1543.84 49.9314 Q1543.84 38.7509 1549.35 32.4315 Q1554.9 26.1121 1564.66 26.1121 Z\" fill=\"#000000\" fill-rule=\"nonzero\" fill-opacity=\"1\" /><path clip-path=\"url(#clip290)\" d=\"M1624.13 34.1734 Q1622.87 33.4443 1621.37 33.1202 Q1619.91 32.7556 1618.13 32.7556 Q1611.81 32.7556 1608.41 36.8875 Q1605.05 40.9789 1605.05 48.6757 L1605.05 72.576 L1597.55 72.576 L1597.55 27.2059 L1605.05 27.2059 L1605.05 34.2544 Q1607.4 30.1225 1611.16 28.1376 Q1614.93 26.1121 1620.32 26.1121 Q1621.09 26.1121 1622.02 26.2337 Q1622.95 26.3147 1624.09 26.5172 L1624.13 34.1734 Z\" fill=\"#000000\" fill-rule=\"nonzero\" fill-opacity=\"1\" /><path clip-path=\"url(#clip290)\" d=\"M1668.93 48.0275 L1668.93 51.6733 L1634.66 51.6733 Q1635.15 59.3701 1639.28 63.421 Q1643.45 67.4314 1650.86 67.4314 Q1655.16 67.4314 1659.17 66.3781 Q1663.22 65.3249 1667.19 63.2184 L1667.19 70.267 Q1663.18 71.9684 1658.97 72.8596 Q1654.75 73.7508 1650.42 73.7508 Q1639.56 73.7508 1633.2 67.4314 Q1626.88 61.1119 1626.88 50.3365 Q1626.88 39.1965 1632.88 32.6746 Q1638.91 26.1121 1649.12 26.1121 Q1658.28 26.1121 1663.58 32.0264 Q1668.93 37.9003 1668.93 48.0275 M1661.48 45.84 Q1661.4 39.7232 1658.03 36.0774 Q1654.71 32.4315 1649.2 32.4315 Q1642.96 32.4315 1639.2 35.9558 Q1635.47 39.4801 1634.9 45.8805 L1661.48 45.84 Z\" fill=\"#000000\" fill-rule=\"nonzero\" fill-opacity=\"1\" /><path clip-path=\"url(#clip292)\" d=\"M320.51 1163.24 L320.51 1423.18 L559.756 1423.18 L559.756 1163.24 L320.51 1163.24 L320.51 1163.24  Z\" fill=\"#009af9\" fill-rule=\"evenodd\" fill-opacity=\"1\"/>\n",
       "<polyline clip-path=\"url(#clip292)\" style=\"stroke:#000000; stroke-linecap:round; stroke-linejoin:round; stroke-width:4; stroke-opacity:1; fill:none\" points=\"320.51,1163.24 320.51,1423.18 559.756,1423.18 559.756,1163.24 320.51,1163.24 \"/>\n",
       "<path clip-path=\"url(#clip292)\" d=\"M559.756 903.297 L559.756 1423.18 L799.001 1423.18 L799.001 903.297 L559.756 903.297 L559.756 903.297  Z\" fill=\"#009af9\" fill-rule=\"evenodd\" fill-opacity=\"1\"/>\n",
       "<polyline clip-path=\"url(#clip292)\" style=\"stroke:#000000; stroke-linecap:round; stroke-linejoin:round; stroke-width:4; stroke-opacity:1; fill:none\" points=\"559.756,903.297 559.756,1423.18 799.001,1423.18 799.001,903.297 559.756,903.297 \"/>\n",
       "<path clip-path=\"url(#clip292)\" d=\"M799.001 773.326 L799.001 1423.18 L1038.25 1423.18 L1038.25 773.326 L799.001 773.326 L799.001 773.326  Z\" fill=\"#009af9\" fill-rule=\"evenodd\" fill-opacity=\"1\"/>\n",
       "<polyline clip-path=\"url(#clip292)\" style=\"stroke:#000000; stroke-linecap:round; stroke-linejoin:round; stroke-width:4; stroke-opacity:1; fill:none\" points=\"799.001,773.326 799.001,1423.18 1038.25,1423.18 1038.25,773.326 799.001,773.326 \"/>\n",
       "<path clip-path=\"url(#clip292)\" d=\"M1038.25 513.384 L1038.25 1423.18 L1277.49 1423.18 L1277.49 513.384 L1038.25 513.384 L1038.25 513.384  Z\" fill=\"#009af9\" fill-rule=\"evenodd\" fill-opacity=\"1\"/>\n",
       "<polyline clip-path=\"url(#clip292)\" style=\"stroke:#000000; stroke-linecap:round; stroke-linejoin:round; stroke-width:4; stroke-opacity:1; fill:none\" points=\"1038.25,513.384 1038.25,1423.18 1277.49,1423.18 1277.49,513.384 1038.25,513.384 \"/>\n",
       "<path clip-path=\"url(#clip292)\" d=\"M1277.49 123.472 L1277.49 1423.18 L1516.74 1423.18 L1516.74 123.472 L1277.49 123.472 L1277.49 123.472  Z\" fill=\"#009af9\" fill-rule=\"evenodd\" fill-opacity=\"1\"/>\n",
       "<polyline clip-path=\"url(#clip292)\" style=\"stroke:#000000; stroke-linecap:round; stroke-linejoin:round; stroke-width:4; stroke-opacity:1; fill:none\" points=\"1277.49,123.472 1277.49,1423.18 1516.74,1423.18 1516.74,123.472 1277.49,123.472 \"/>\n",
       "<path clip-path=\"url(#clip292)\" d=\"M1516.74 773.326 L1516.74 1423.18 L1755.98 1423.18 L1755.98 773.326 L1516.74 773.326 L1516.74 773.326  Z\" fill=\"#009af9\" fill-rule=\"evenodd\" fill-opacity=\"1\"/>\n",
       "<polyline clip-path=\"url(#clip292)\" style=\"stroke:#000000; stroke-linecap:round; stroke-linejoin:round; stroke-width:4; stroke-opacity:1; fill:none\" points=\"1516.74,773.326 1516.74,1423.18 1755.98,1423.18 1755.98,773.326 1516.74,773.326 \"/>\n",
       "<path clip-path=\"url(#clip292)\" d=\"M1755.98 903.297 L1755.98 1423.18 L1995.23 1423.18 L1995.23 903.297 L1755.98 903.297 L1755.98 903.297  Z\" fill=\"#009af9\" fill-rule=\"evenodd\" fill-opacity=\"1\"/>\n",
       "<polyline clip-path=\"url(#clip292)\" style=\"stroke:#000000; stroke-linecap:round; stroke-linejoin:round; stroke-width:4; stroke-opacity:1; fill:none\" points=\"1755.98,903.297 1755.98,1423.18 1995.23,1423.18 1995.23,903.297 1755.98,903.297 \"/>\n",
       "<path clip-path=\"url(#clip292)\" d=\"M1995.23 1033.27 L1995.23 1423.18 L2234.47 1423.18 L2234.47 1033.27 L1995.23 1033.27 L1995.23 1033.27  Z\" fill=\"#009af9\" fill-rule=\"evenodd\" fill-opacity=\"1\"/>\n",
       "<polyline clip-path=\"url(#clip292)\" style=\"stroke:#000000; stroke-linecap:round; stroke-linejoin:round; stroke-width:4; stroke-opacity:1; fill:none\" points=\"1995.23,1033.27 1995.23,1423.18 2234.47,1423.18 2234.47,1033.27 1995.23,1033.27 \"/>\n",
       "<circle clip-path=\"url(#clip292)\" style=\"fill:#009af9; stroke:none; fill-opacity:0\" cx=\"440.133\" cy=\"1163.24\" r=\"2\"/>\n",
       "<circle clip-path=\"url(#clip292)\" style=\"fill:#009af9; stroke:none; fill-opacity:0\" cx=\"679.378\" cy=\"903.297\" r=\"2\"/>\n",
       "<circle clip-path=\"url(#clip292)\" style=\"fill:#009af9; stroke:none; fill-opacity:0\" cx=\"918.624\" cy=\"773.326\" r=\"2\"/>\n",
       "<circle clip-path=\"url(#clip292)\" style=\"fill:#009af9; stroke:none; fill-opacity:0\" cx=\"1157.87\" cy=\"513.384\" r=\"2\"/>\n",
       "<circle clip-path=\"url(#clip292)\" style=\"fill:#009af9; stroke:none; fill-opacity:0\" cx=\"1397.11\" cy=\"123.472\" r=\"2\"/>\n",
       "<circle clip-path=\"url(#clip292)\" style=\"fill:#009af9; stroke:none; fill-opacity:0\" cx=\"1636.36\" cy=\"773.326\" r=\"2\"/>\n",
       "<circle clip-path=\"url(#clip292)\" style=\"fill:#009af9; stroke:none; fill-opacity:0\" cx=\"1875.61\" cy=\"903.297\" r=\"2\"/>\n",
       "<circle clip-path=\"url(#clip292)\" style=\"fill:#009af9; stroke:none; fill-opacity:0\" cx=\"2114.85\" cy=\"1033.27\" r=\"2\"/>\n",
       "</svg>\n"
      ],
      "text/html": [
       "<?xml version=\"1.0\" encoding=\"utf-8\"?>\n",
       "<svg xmlns=\"http://www.w3.org/2000/svg\" xmlns:xlink=\"http://www.w3.org/1999/xlink\" width=\"600\" height=\"400\" viewBox=\"0 0 2400 1600\">\n",
       "<defs>\n",
       "  <clipPath id=\"clip340\">\n",
       "    <rect x=\"0\" y=\"0\" width=\"2400\" height=\"1600\"/>\n",
       "  </clipPath>\n",
       "</defs>\n",
       "<path clip-path=\"url(#clip340)\" d=\"M0 1600 L2400 1600 L2400 0 L0 0  Z\" fill=\"#ffffff\" fill-rule=\"evenodd\" fill-opacity=\"1\"/>\n",
       "<defs>\n",
       "  <clipPath id=\"clip341\">\n",
       "    <rect x=\"480\" y=\"0\" width=\"1681\" height=\"1600\"/>\n",
       "  </clipPath>\n",
       "</defs>\n",
       "<path clip-path=\"url(#clip340)\" d=\"M202.227 1423.18 L2352.76 1423.18 L2352.76 123.472 L202.227 123.472  Z\" fill=\"#ffffff\" fill-rule=\"evenodd\" fill-opacity=\"1\"/>\n",
       "<defs>\n",
       "  <clipPath id=\"clip342\">\n",
       "    <rect x=\"202\" y=\"123\" width=\"2152\" height=\"1301\"/>\n",
       "  </clipPath>\n",
       "</defs>\n",
       "<polyline clip-path=\"url(#clip342)\" style=\"stroke:#000000; stroke-linecap:round; stroke-linejoin:round; stroke-width:2; stroke-opacity:0.1; fill:none\" points=\"320.51,1423.18 320.51,123.472 \"/>\n",
       "<polyline clip-path=\"url(#clip342)\" style=\"stroke:#000000; stroke-linecap:round; stroke-linejoin:round; stroke-width:2; stroke-opacity:0.1; fill:none\" points=\"799.001,1423.18 799.001,123.472 \"/>\n",
       "<polyline clip-path=\"url(#clip342)\" style=\"stroke:#000000; stroke-linecap:round; stroke-linejoin:round; stroke-width:2; stroke-opacity:0.1; fill:none\" points=\"1277.49,1423.18 1277.49,123.472 \"/>\n",
       "<polyline clip-path=\"url(#clip342)\" style=\"stroke:#000000; stroke-linecap:round; stroke-linejoin:round; stroke-width:2; stroke-opacity:0.1; fill:none\" points=\"1755.98,1423.18 1755.98,123.472 \"/>\n",
       "<polyline clip-path=\"url(#clip342)\" style=\"stroke:#000000; stroke-linecap:round; stroke-linejoin:round; stroke-width:2; stroke-opacity:0.1; fill:none\" points=\"2234.47,1423.18 2234.47,123.472 \"/>\n",
       "<polyline clip-path=\"url(#clip340)\" style=\"stroke:#000000; stroke-linecap:round; stroke-linejoin:round; stroke-width:4; stroke-opacity:1; fill:none\" points=\"202.227,1423.18 2352.76,1423.18 \"/>\n",
       "<polyline clip-path=\"url(#clip340)\" style=\"stroke:#000000; stroke-linecap:round; stroke-linejoin:round; stroke-width:4; stroke-opacity:1; fill:none\" points=\"320.51,1423.18 320.51,1404.28 \"/>\n",
       "<polyline clip-path=\"url(#clip340)\" style=\"stroke:#000000; stroke-linecap:round; stroke-linejoin:round; stroke-width:4; stroke-opacity:1; fill:none\" points=\"799.001,1423.18 799.001,1404.28 \"/>\n",
       "<polyline clip-path=\"url(#clip340)\" style=\"stroke:#000000; stroke-linecap:round; stroke-linejoin:round; stroke-width:4; stroke-opacity:1; fill:none\" points=\"1277.49,1423.18 1277.49,1404.28 \"/>\n",
       "<polyline clip-path=\"url(#clip340)\" style=\"stroke:#000000; stroke-linecap:round; stroke-linejoin:round; stroke-width:4; stroke-opacity:1; fill:none\" points=\"1755.98,1423.18 1755.98,1404.28 \"/>\n",
       "<polyline clip-path=\"url(#clip340)\" style=\"stroke:#000000; stroke-linecap:round; stroke-linejoin:round; stroke-width:4; stroke-opacity:1; fill:none\" points=\"2234.47,1423.18 2234.47,1404.28 \"/>\n",
       "<path clip-path=\"url(#clip340)\" d=\"M299.284 1481.64 L315.603 1481.64 L315.603 1485.58 L293.659 1485.58 L293.659 1481.64 Q296.321 1478.89 300.904 1474.26 Q305.51 1469.61 306.691 1468.27 Q308.936 1465.74 309.816 1464.01 Q310.719 1462.25 310.719 1460.56 Q310.719 1457.8 308.774 1456.07 Q306.853 1454.33 303.751 1454.33 Q301.552 1454.33 299.098 1455.09 Q296.668 1455.86 293.89 1457.41 L293.89 1452.69 Q296.714 1451.55 299.168 1450.97 Q301.622 1450.39 303.659 1450.39 Q309.029 1450.39 312.223 1453.08 Q315.418 1455.77 315.418 1460.26 Q315.418 1462.39 314.608 1464.31 Q313.821 1466.2 311.714 1468.8 Q311.135 1469.47 308.034 1472.69 Q304.932 1475.88 299.284 1481.64 Z\" fill=\"#000000\" fill-rule=\"nonzero\" fill-opacity=\"1\" /><path clip-path=\"url(#clip340)\" d=\"M335.418 1454.1 Q331.807 1454.1 329.978 1457.66 Q328.172 1461.2 328.172 1468.33 Q328.172 1475.44 329.978 1479.01 Q331.807 1482.55 335.418 1482.55 Q339.052 1482.55 340.857 1479.01 Q342.686 1475.44 342.686 1468.33 Q342.686 1461.2 340.857 1457.66 Q339.052 1454.1 335.418 1454.1 M335.418 1450.39 Q341.228 1450.39 344.283 1455 Q347.362 1459.58 347.362 1468.33 Q347.362 1477.06 344.283 1481.67 Q341.228 1486.25 335.418 1486.25 Q329.608 1486.25 326.529 1481.67 Q323.473 1477.06 323.473 1468.33 Q323.473 1459.58 326.529 1455 Q329.608 1450.39 335.418 1450.39 Z\" fill=\"#000000\" fill-rule=\"nonzero\" fill-opacity=\"1\" /><path clip-path=\"url(#clip340)\" d=\"M787.172 1455.09 L775.367 1473.54 L787.172 1473.54 L787.172 1455.09 M785.946 1451.02 L791.825 1451.02 L791.825 1473.54 L796.756 1473.54 L796.756 1477.43 L791.825 1477.43 L791.825 1485.58 L787.172 1485.58 L787.172 1477.43 L771.571 1477.43 L771.571 1472.92 L785.946 1451.02 Z\" fill=\"#000000\" fill-rule=\"nonzero\" fill-opacity=\"1\" /><path clip-path=\"url(#clip340)\" d=\"M814.487 1454.1 Q810.876 1454.1 809.047 1457.66 Q807.242 1461.2 807.242 1468.33 Q807.242 1475.44 809.047 1479.01 Q810.876 1482.55 814.487 1482.55 Q818.121 1482.55 819.927 1479.01 Q821.756 1475.44 821.756 1468.33 Q821.756 1461.2 819.927 1457.66 Q818.121 1454.1 814.487 1454.1 M814.487 1450.39 Q820.297 1450.39 823.353 1455 Q826.431 1459.58 826.431 1468.33 Q826.431 1477.06 823.353 1481.67 Q820.297 1486.25 814.487 1486.25 Q808.677 1486.25 805.598 1481.67 Q802.543 1477.06 802.543 1468.33 Q802.543 1459.58 805.598 1455 Q808.677 1450.39 814.487 1450.39 Z\" fill=\"#000000\" fill-rule=\"nonzero\" fill-opacity=\"1\" /><path clip-path=\"url(#clip340)\" d=\"M1262.9 1466.44 Q1259.75 1466.44 1257.9 1468.59 Q1256.07 1470.74 1256.07 1474.49 Q1256.07 1478.22 1257.9 1480.39 Q1259.75 1482.55 1262.9 1482.55 Q1266.04 1482.55 1267.87 1480.39 Q1269.73 1478.22 1269.73 1474.49 Q1269.73 1470.74 1267.87 1468.59 Q1266.04 1466.44 1262.9 1466.44 M1272.18 1451.78 L1272.18 1456.04 Q1270.42 1455.21 1268.61 1454.77 Q1266.83 1454.33 1265.07 1454.33 Q1260.44 1454.33 1257.99 1457.45 Q1255.56 1460.58 1255.21 1466.9 Q1256.58 1464.89 1258.64 1463.82 Q1260.7 1462.73 1263.17 1462.73 Q1268.38 1462.73 1271.39 1465.9 Q1274.42 1469.05 1274.42 1474.49 Q1274.42 1479.82 1271.28 1483.03 Q1268.13 1486.25 1262.9 1486.25 Q1256.9 1486.25 1253.73 1481.67 Q1250.56 1477.06 1250.56 1468.33 Q1250.56 1460.14 1254.45 1455.28 Q1258.34 1450.39 1264.89 1450.39 Q1266.65 1450.39 1268.43 1450.74 Q1270.23 1451.09 1272.18 1451.78 Z\" fill=\"#000000\" fill-rule=\"nonzero\" fill-opacity=\"1\" /><path clip-path=\"url(#clip340)\" d=\"M1292.48 1454.1 Q1288.87 1454.1 1287.04 1457.66 Q1285.23 1461.2 1285.23 1468.33 Q1285.23 1475.44 1287.04 1479.01 Q1288.87 1482.55 1292.48 1482.55 Q1296.11 1482.55 1297.92 1479.01 Q1299.75 1475.44 1299.75 1468.33 Q1299.75 1461.2 1297.92 1457.66 Q1296.11 1454.1 1292.48 1454.1 M1292.48 1450.39 Q1298.29 1450.39 1301.35 1455 Q1304.42 1459.58 1304.42 1468.33 Q1304.42 1477.06 1301.35 1481.67 Q1298.29 1486.25 1292.48 1486.25 Q1286.67 1486.25 1283.59 1481.67 Q1280.54 1477.06 1280.54 1468.33 Q1280.54 1459.58 1283.59 1455 Q1286.67 1450.39 1292.48 1450.39 Z\" fill=\"#000000\" fill-rule=\"nonzero\" fill-opacity=\"1\" /><path clip-path=\"url(#clip340)\" d=\"M1740.86 1469.17 Q1737.52 1469.17 1735.6 1470.95 Q1733.7 1472.73 1733.7 1475.86 Q1733.7 1478.98 1735.6 1480.77 Q1737.52 1482.55 1740.86 1482.55 Q1744.19 1482.55 1746.11 1480.77 Q1748.03 1478.96 1748.03 1475.86 Q1748.03 1472.73 1746.11 1470.95 Q1744.21 1469.17 1740.86 1469.17 M1736.18 1467.18 Q1733.17 1466.44 1731.48 1464.38 Q1729.81 1462.32 1729.81 1459.35 Q1729.81 1455.21 1732.75 1452.8 Q1735.72 1450.39 1740.86 1450.39 Q1746.02 1450.39 1748.96 1452.8 Q1751.9 1455.21 1751.9 1459.35 Q1751.9 1462.32 1750.21 1464.38 Q1748.54 1466.44 1745.55 1467.18 Q1748.93 1467.96 1750.81 1470.26 Q1752.71 1472.55 1752.71 1475.86 Q1752.71 1480.88 1749.63 1483.57 Q1746.57 1486.25 1740.86 1486.25 Q1735.14 1486.25 1732.06 1483.57 Q1729 1480.88 1729 1475.86 Q1729 1472.55 1730.9 1470.26 Q1732.8 1467.96 1736.18 1467.18 M1734.47 1459.79 Q1734.47 1462.48 1736.13 1463.98 Q1737.82 1465.49 1740.86 1465.49 Q1743.86 1465.49 1745.55 1463.98 Q1747.27 1462.48 1747.27 1459.79 Q1747.27 1457.11 1745.55 1455.6 Q1743.86 1454.1 1740.86 1454.1 Q1737.82 1454.1 1736.13 1455.6 Q1734.47 1457.11 1734.47 1459.79 Z\" fill=\"#000000\" fill-rule=\"nonzero\" fill-opacity=\"1\" /><path clip-path=\"url(#clip340)\" d=\"M1771.02 1454.1 Q1767.41 1454.1 1765.58 1457.66 Q1763.77 1461.2 1763.77 1468.33 Q1763.77 1475.44 1765.58 1479.01 Q1767.41 1482.55 1771.02 1482.55 Q1774.65 1482.55 1776.46 1479.01 Q1778.29 1475.44 1778.29 1468.33 Q1778.29 1461.2 1776.46 1457.66 Q1774.65 1454.1 1771.02 1454.1 M1771.02 1450.39 Q1776.83 1450.39 1779.88 1455 Q1782.96 1459.58 1782.96 1468.33 Q1782.96 1477.06 1779.88 1481.67 Q1776.83 1486.25 1771.02 1486.25 Q1765.21 1486.25 1762.13 1481.67 Q1759.07 1477.06 1759.07 1468.33 Q1759.07 1459.58 1762.13 1455 Q1765.21 1450.39 1771.02 1450.39 Z\" fill=\"#000000\" fill-rule=\"nonzero\" fill-opacity=\"1\" /><path clip-path=\"url(#clip340)\" d=\"M2194.08 1481.64 L2201.72 1481.64 L2201.72 1455.28 L2193.41 1456.95 L2193.41 1452.69 L2201.67 1451.02 L2206.35 1451.02 L2206.35 1481.64 L2213.99 1481.64 L2213.99 1485.58 L2194.08 1485.58 L2194.08 1481.64 Z\" fill=\"#000000\" fill-rule=\"nonzero\" fill-opacity=\"1\" /><path clip-path=\"url(#clip340)\" d=\"M2233.43 1454.1 Q2229.82 1454.1 2227.99 1457.66 Q2226.19 1461.2 2226.19 1468.33 Q2226.19 1475.44 2227.99 1479.01 Q2229.82 1482.55 2233.43 1482.55 Q2237.07 1482.55 2238.87 1479.01 Q2240.7 1475.44 2240.7 1468.33 Q2240.7 1461.2 2238.87 1457.66 Q2237.07 1454.1 2233.43 1454.1 M2233.43 1450.39 Q2239.24 1450.39 2242.3 1455 Q2245.38 1459.58 2245.38 1468.33 Q2245.38 1477.06 2242.3 1481.67 Q2239.24 1486.25 2233.43 1486.25 Q2227.62 1486.25 2224.54 1481.67 Q2221.49 1477.06 2221.49 1468.33 Q2221.49 1459.58 2224.54 1455 Q2227.62 1450.39 2233.43 1450.39 Z\" fill=\"#000000\" fill-rule=\"nonzero\" fill-opacity=\"1\" /><path clip-path=\"url(#clip340)\" d=\"M2263.59 1454.1 Q2259.98 1454.1 2258.15 1457.66 Q2256.35 1461.2 2256.35 1468.33 Q2256.35 1475.44 2258.15 1479.01 Q2259.98 1482.55 2263.59 1482.55 Q2267.23 1482.55 2269.03 1479.01 Q2270.86 1475.44 2270.86 1468.33 Q2270.86 1461.2 2269.03 1457.66 Q2267.23 1454.1 2263.59 1454.1 M2263.59 1450.39 Q2269.4 1450.39 2272.46 1455 Q2275.54 1459.58 2275.54 1468.33 Q2275.54 1477.06 2272.46 1481.67 Q2269.4 1486.25 2263.59 1486.25 Q2257.78 1486.25 2254.7 1481.67 Q2251.65 1477.06 2251.65 1468.33 Q2251.65 1459.58 2254.7 1455 Q2257.78 1450.39 2263.59 1450.39 Z\" fill=\"#000000\" fill-rule=\"nonzero\" fill-opacity=\"1\" /><path clip-path=\"url(#clip340)\" d=\"M1220.68 1522.08 L1220.68 1528.35 Q1217.02 1526.6 1213.77 1525.74 Q1210.52 1524.88 1207.5 1524.88 Q1202.25 1524.88 1199.38 1526.92 Q1196.55 1528.96 1196.55 1532.71 Q1196.55 1535.87 1198.43 1537.49 Q1200.34 1539.08 1205.62 1540.07 L1209.51 1540.86 Q1216.7 1542.23 1220.1 1545.7 Q1223.54 1549.14 1223.54 1554.93 Q1223.54 1561.84 1218.9 1565.4 Q1214.28 1568.97 1205.34 1568.97 Q1201.96 1568.97 1198.14 1568.2 Q1194.36 1567.44 1190.28 1565.94 L1190.28 1559.32 Q1194.2 1561.52 1197.95 1562.63 Q1201.71 1563.75 1205.34 1563.75 Q1210.84 1563.75 1213.83 1561.58 Q1216.83 1559.42 1216.83 1555.41 Q1216.83 1551.91 1214.66 1549.93 Q1212.53 1547.96 1207.63 1546.97 L1203.71 1546.21 Q1196.52 1544.78 1193.31 1541.72 Q1190.09 1538.67 1190.09 1533.22 Q1190.09 1526.92 1194.51 1523.29 Q1198.97 1519.66 1206.77 1519.66 Q1210.11 1519.66 1213.58 1520.27 Q1217.05 1520.87 1220.68 1522.08 Z\" fill=\"#000000\" fill-rule=\"nonzero\" fill-opacity=\"1\" /><path clip-path=\"url(#clip340)\" d=\"M1258.97 1533.76 L1258.97 1539.24 Q1256.48 1537.87 1253.97 1537.2 Q1251.49 1536.5 1248.94 1536.5 Q1243.24 1536.5 1240.09 1540.13 Q1236.94 1543.73 1236.94 1550.25 Q1236.94 1556.78 1240.09 1560.4 Q1243.24 1564 1248.94 1564 Q1251.49 1564 1253.97 1563.33 Q1256.48 1562.63 1258.97 1561.26 L1258.97 1566.68 Q1256.52 1567.82 1253.87 1568.39 Q1251.26 1568.97 1248.3 1568.97 Q1240.25 1568.97 1235.51 1563.91 Q1230.77 1558.85 1230.77 1550.25 Q1230.77 1541.53 1235.54 1536.53 Q1240.35 1531.54 1248.69 1531.54 Q1251.39 1531.54 1253.97 1532.11 Q1256.55 1532.65 1258.97 1533.76 Z\" fill=\"#000000\" fill-rule=\"nonzero\" fill-opacity=\"1\" /><path clip-path=\"url(#clip340)\" d=\"M1282.97 1536.5 Q1278.26 1536.5 1275.52 1540.19 Q1272.78 1543.85 1272.78 1550.25 Q1272.78 1556.65 1275.49 1560.34 Q1278.22 1564 1282.97 1564 Q1287.64 1564 1290.38 1560.31 Q1293.12 1556.62 1293.12 1550.25 Q1293.12 1543.92 1290.38 1540.23 Q1287.64 1536.5 1282.97 1536.5 M1282.97 1531.54 Q1290.61 1531.54 1294.97 1536.5 Q1299.33 1541.47 1299.33 1550.25 Q1299.33 1559 1294.97 1564 Q1290.61 1568.97 1282.97 1568.97 Q1275.3 1568.97 1270.94 1564 Q1266.61 1559 1266.61 1550.25 Q1266.61 1541.47 1270.94 1536.5 Q1275.3 1531.54 1282.97 1531.54 Z\" fill=\"#000000\" fill-rule=\"nonzero\" fill-opacity=\"1\" /><path clip-path=\"url(#clip340)\" d=\"M1329.69 1537.87 Q1328.7 1537.3 1327.53 1537.04 Q1326.38 1536.76 1324.98 1536.76 Q1320.01 1536.76 1317.34 1540 Q1314.7 1543.22 1314.7 1549.27 L1314.7 1568.04 L1308.81 1568.04 L1308.81 1532.4 L1314.7 1532.4 L1314.7 1537.93 Q1316.55 1534.69 1319.51 1533.13 Q1322.47 1531.54 1326.7 1531.54 Q1327.3 1531.54 1328.04 1531.63 Q1328.77 1531.7 1329.66 1531.85 L1329.69 1537.87 Z\" fill=\"#000000\" fill-rule=\"nonzero\" fill-opacity=\"1\" /><path clip-path=\"url(#clip340)\" d=\"M1364.89 1548.76 L1364.89 1551.62 L1337.97 1551.62 Q1338.35 1557.67 1341.59 1560.85 Q1344.87 1564 1350.7 1564 Q1354.07 1564 1357.22 1563.17 Q1360.41 1562.35 1363.52 1560.69 L1363.52 1566.23 Q1360.37 1567.57 1357.06 1568.27 Q1353.75 1568.97 1350.35 1568.97 Q1341.82 1568.97 1336.82 1564 Q1331.85 1559.04 1331.85 1550.57 Q1331.85 1541.82 1336.57 1536.69 Q1341.31 1531.54 1349.33 1531.54 Q1356.52 1531.54 1360.69 1536.18 Q1364.89 1540.8 1364.89 1548.76 M1359.04 1547.04 Q1358.97 1542.23 1356.33 1539.37 Q1353.72 1536.5 1349.39 1536.5 Q1344.49 1536.5 1341.53 1539.27 Q1338.6 1542.04 1338.16 1547.07 L1359.04 1547.04 Z\" fill=\"#000000\" fill-rule=\"nonzero\" fill-opacity=\"1\" /><polyline clip-path=\"url(#clip342)\" style=\"stroke:#000000; stroke-linecap:round; stroke-linejoin:round; stroke-width:2; stroke-opacity:0.1; fill:none\" points=\"202.227,1423.18 2352.76,1423.18 \"/>\n",
       "<polyline clip-path=\"url(#clip342)\" style=\"stroke:#000000; stroke-linecap:round; stroke-linejoin:round; stroke-width:2; stroke-opacity:0.1; fill:none\" points=\"202.227,1163.24 2352.76,1163.24 \"/>\n",
       "<polyline clip-path=\"url(#clip342)\" style=\"stroke:#000000; stroke-linecap:round; stroke-linejoin:round; stroke-width:2; stroke-opacity:0.1; fill:none\" points=\"202.227,903.297 2352.76,903.297 \"/>\n",
       "<polyline clip-path=\"url(#clip342)\" style=\"stroke:#000000; stroke-linecap:round; stroke-linejoin:round; stroke-width:2; stroke-opacity:0.1; fill:none\" points=\"202.227,643.355 2352.76,643.355 \"/>\n",
       "<polyline clip-path=\"url(#clip342)\" style=\"stroke:#000000; stroke-linecap:round; stroke-linejoin:round; stroke-width:2; stroke-opacity:0.1; fill:none\" points=\"202.227,383.414 2352.76,383.414 \"/>\n",
       "<polyline clip-path=\"url(#clip342)\" style=\"stroke:#000000; stroke-linecap:round; stroke-linejoin:round; stroke-width:2; stroke-opacity:0.1; fill:none\" points=\"202.227,123.472 2352.76,123.472 \"/>\n",
       "<polyline clip-path=\"url(#clip340)\" style=\"stroke:#000000; stroke-linecap:round; stroke-linejoin:round; stroke-width:4; stroke-opacity:1; fill:none\" points=\"202.227,1423.18 202.227,123.472 \"/>\n",
       "<polyline clip-path=\"url(#clip340)\" style=\"stroke:#000000; stroke-linecap:round; stroke-linejoin:round; stroke-width:4; stroke-opacity:1; fill:none\" points=\"202.227,1423.18 221.125,1423.18 \"/>\n",
       "<polyline clip-path=\"url(#clip340)\" style=\"stroke:#000000; stroke-linecap:round; stroke-linejoin:round; stroke-width:4; stroke-opacity:1; fill:none\" points=\"202.227,1163.24 221.125,1163.24 \"/>\n",
       "<polyline clip-path=\"url(#clip340)\" style=\"stroke:#000000; stroke-linecap:round; stroke-linejoin:round; stroke-width:4; stroke-opacity:1; fill:none\" points=\"202.227,903.297 221.125,903.297 \"/>\n",
       "<polyline clip-path=\"url(#clip340)\" style=\"stroke:#000000; stroke-linecap:round; stroke-linejoin:round; stroke-width:4; stroke-opacity:1; fill:none\" points=\"202.227,643.355 221.125,643.355 \"/>\n",
       "<polyline clip-path=\"url(#clip340)\" style=\"stroke:#000000; stroke-linecap:round; stroke-linejoin:round; stroke-width:4; stroke-opacity:1; fill:none\" points=\"202.227,383.414 221.125,383.414 \"/>\n",
       "<polyline clip-path=\"url(#clip340)\" style=\"stroke:#000000; stroke-linecap:round; stroke-linejoin:round; stroke-width:4; stroke-opacity:1; fill:none\" points=\"202.227,123.472 221.125,123.472 \"/>\n",
       "<path clip-path=\"url(#clip340)\" d=\"M154.283 1408.98 Q150.672 1408.98 148.843 1412.54 Q147.038 1416.08 147.038 1423.21 Q147.038 1430.32 148.843 1433.89 Q150.672 1437.43 154.283 1437.43 Q157.917 1437.43 159.723 1433.89 Q161.552 1430.32 161.552 1423.21 Q161.552 1416.08 159.723 1412.54 Q157.917 1408.98 154.283 1408.98 M154.283 1405.27 Q160.093 1405.27 163.149 1409.88 Q166.227 1414.46 166.227 1423.21 Q166.227 1431.94 163.149 1436.55 Q160.093 1441.13 154.283 1441.13 Q148.473 1441.13 145.394 1436.55 Q142.339 1431.94 142.339 1423.21 Q142.339 1414.46 145.394 1409.88 Q148.473 1405.27 154.283 1405.27 Z\" fill=\"#000000\" fill-rule=\"nonzero\" fill-opacity=\"1\" /><path clip-path=\"url(#clip340)\" d=\"M149.908 1176.58 L166.227 1176.58 L166.227 1180.52 L144.283 1180.52 L144.283 1176.58 Q146.945 1173.83 151.528 1169.2 Q156.135 1164.55 157.315 1163.2 Q159.561 1160.68 160.44 1158.94 Q161.343 1157.19 161.343 1155.5 Q161.343 1152.74 159.399 1151 Q157.478 1149.27 154.376 1149.27 Q152.177 1149.27 149.723 1150.03 Q147.292 1150.8 144.515 1152.35 L144.515 1147.62 Q147.339 1146.49 149.792 1145.91 Q152.246 1145.33 154.283 1145.33 Q159.653 1145.33 162.848 1148.02 Q166.042 1150.7 166.042 1155.19 Q166.042 1157.32 165.232 1159.25 Q164.445 1161.14 162.339 1163.74 Q161.76 1164.41 158.658 1167.62 Q155.556 1170.82 149.908 1176.58 Z\" fill=\"#000000\" fill-rule=\"nonzero\" fill-opacity=\"1\" /><path clip-path=\"url(#clip340)\" d=\"M156.644 890.091 L144.839 908.54 L156.644 908.54 L156.644 890.091 M155.417 886.017 L161.297 886.017 L161.297 908.54 L166.227 908.54 L166.227 912.429 L161.297 912.429 L161.297 920.577 L156.644 920.577 L156.644 912.429 L141.042 912.429 L141.042 907.915 L155.417 886.017 Z\" fill=\"#000000\" fill-rule=\"nonzero\" fill-opacity=\"1\" /><path clip-path=\"url(#clip340)\" d=\"M154.7 641.492 Q151.552 641.492 149.7 643.645 Q147.871 645.797 147.871 649.547 Q147.871 653.274 149.7 655.45 Q151.552 657.603 154.7 657.603 Q157.848 657.603 159.677 655.45 Q161.528 653.274 161.528 649.547 Q161.528 645.797 159.677 643.645 Q157.848 641.492 154.7 641.492 M163.982 626.839 L163.982 631.098 Q162.223 630.265 160.417 629.825 Q158.635 629.385 156.876 629.385 Q152.246 629.385 149.792 632.51 Q147.362 635.635 147.015 641.955 Q148.38 639.941 150.441 638.876 Q152.501 637.788 154.978 637.788 Q160.186 637.788 163.195 640.959 Q166.227 644.108 166.227 649.547 Q166.227 654.871 163.079 658.089 Q159.931 661.307 154.7 661.307 Q148.704 661.307 145.533 656.723 Q142.362 652.117 142.362 643.39 Q142.362 635.196 146.251 630.334 Q150.14 625.45 156.69 625.45 Q158.45 625.45 160.232 625.797 Q162.038 626.145 163.982 626.839 Z\" fill=\"#000000\" fill-rule=\"nonzero\" fill-opacity=\"1\" /><path clip-path=\"url(#clip340)\" d=\"M154.376 384.282 Q151.042 384.282 149.121 386.064 Q147.223 387.847 147.223 390.971 Q147.223 394.096 149.121 395.879 Q151.042 397.661 154.376 397.661 Q157.709 397.661 159.63 395.879 Q161.552 394.073 161.552 390.971 Q161.552 387.847 159.63 386.064 Q157.732 384.282 154.376 384.282 M149.7 382.291 Q146.691 381.55 145.001 379.49 Q143.334 377.43 143.334 374.467 Q143.334 370.323 146.274 367.916 Q149.237 365.509 154.376 365.509 Q159.538 365.509 162.477 367.916 Q165.417 370.323 165.417 374.467 Q165.417 377.43 163.727 379.49 Q162.061 381.55 159.075 382.291 Q162.454 383.078 164.329 385.37 Q166.227 387.661 166.227 390.971 Q166.227 395.995 163.149 398.68 Q160.093 401.365 154.376 401.365 Q148.658 401.365 145.579 398.68 Q142.524 395.995 142.524 390.971 Q142.524 387.661 144.422 385.37 Q146.32 383.078 149.7 382.291 M147.987 374.907 Q147.987 377.592 149.653 379.097 Q151.343 380.601 154.376 380.601 Q157.385 380.601 159.075 379.097 Q160.788 377.592 160.788 374.907 Q160.788 372.222 159.075 370.717 Q157.385 369.212 154.376 369.212 Q151.343 369.212 149.653 370.717 Q147.987 372.222 147.987 374.907 Z\" fill=\"#000000\" fill-rule=\"nonzero\" fill-opacity=\"1\" /><path clip-path=\"url(#clip340)\" d=\"M114.931 136.817 L122.57 136.817 L122.57 110.451 L114.26 112.118 L114.26 107.859 L122.524 106.192 L127.2 106.192 L127.2 136.817 L134.839 136.817 L134.839 140.752 L114.931 140.752 L114.931 136.817 Z\" fill=\"#000000\" fill-rule=\"nonzero\" fill-opacity=\"1\" /><path clip-path=\"url(#clip340)\" d=\"M154.283 109.271 Q150.672 109.271 148.843 112.836 Q147.038 116.377 147.038 123.507 Q147.038 130.613 148.843 134.178 Q150.672 137.72 154.283 137.72 Q157.917 137.72 159.723 134.178 Q161.552 130.613 161.552 123.507 Q161.552 116.377 159.723 112.836 Q157.917 109.271 154.283 109.271 M154.283 105.567 Q160.093 105.567 163.149 110.174 Q166.227 114.757 166.227 123.507 Q166.227 132.234 163.149 136.84 Q160.093 141.423 154.283 141.423 Q148.473 141.423 145.394 136.84 Q142.339 132.234 142.339 123.507 Q142.339 114.757 145.394 110.174 Q148.473 105.567 154.283 105.567 Z\" fill=\"#000000\" fill-rule=\"nonzero\" fill-opacity=\"1\" /><path clip-path=\"url(#clip340)\" d=\"M16.4842 937.529 L16.4842 910.221 L21.895 910.221 L21.895 931.1 L35.8996 931.1 L35.8996 912.258 L41.3104 912.258 L41.3104 931.1 L64.0042 931.1 L64.0042 937.529 L16.4842 937.529 Z\" fill=\"#000000\" fill-rule=\"nonzero\" fill-opacity=\"1\" /><path clip-path=\"url(#clip340)\" d=\"M33.8307 884.376 Q33.2578 885.362 33.0032 886.54 Q32.7167 887.686 32.7167 889.086 Q32.7167 894.052 35.9632 896.725 Q39.1779 899.367 45.2253 899.367 L64.0042 899.367 L64.0042 905.255 L28.3562 905.255 L28.3562 899.367 L33.8944 899.367 Q30.6479 897.521 29.0883 894.561 Q27.4968 891.601 27.4968 887.368 Q27.4968 886.763 27.5923 886.031 Q27.656 885.299 27.8151 884.408 L33.8307 884.376 Z\" fill=\"#000000\" fill-rule=\"nonzero\" fill-opacity=\"1\" /><path clip-path=\"url(#clip340)\" d=\"M44.7161 849.173 L47.5806 849.173 L47.5806 876.1 Q53.6281 875.718 56.8109 872.472 Q59.9619 869.194 59.9619 863.369 Q59.9619 859.995 59.1344 856.844 Q58.3069 853.661 56.6518 850.542 L62.1899 850.542 Q63.5267 853.693 64.227 857.003 Q64.9272 860.313 64.9272 863.719 Q64.9272 872.249 59.9619 877.246 Q54.9967 882.211 46.5303 882.211 Q37.7774 882.211 32.6531 877.501 Q27.4968 872.758 27.4968 864.738 Q27.4968 857.544 32.1438 853.375 Q36.7589 849.173 44.7161 849.173 M42.9973 855.03 Q38.1912 855.093 35.3266 857.735 Q32.4621 860.345 32.4621 864.674 Q32.4621 869.575 35.2312 872.536 Q38.0002 875.464 43.0292 875.909 L42.9973 855.03 Z\" fill=\"#000000\" fill-rule=\"nonzero\" fill-opacity=\"1\" /><path clip-path=\"url(#clip340)\" d=\"M46.212 836.06 Q52.6732 836.06 56.3653 833.418 Q60.0256 830.745 60.0256 826.098 Q60.0256 821.451 56.3653 818.777 Q52.6732 816.104 46.212 816.104 Q39.7508 816.104 36.0905 818.777 Q32.3984 821.451 32.3984 826.098 Q32.3984 830.745 36.0905 833.418 Q39.7508 836.06 46.212 836.06 M58.657 816.104 Q61.8398 817.95 63.3994 820.782 Q64.9272 823.583 64.9272 827.53 Q64.9272 833.991 59.771 838.065 Q54.6147 842.107 46.212 842.107 Q37.8093 842.107 32.6531 838.065 Q27.4968 833.991 27.4968 827.53 Q27.4968 823.583 29.0564 820.782 Q30.5842 817.95 33.7671 816.104 L28.3562 816.104 L28.3562 810.247 L77.5631 810.247 L77.5631 816.104 L58.657 816.104 Z\" fill=\"#000000\" fill-rule=\"nonzero\" fill-opacity=\"1\" /><path clip-path=\"url(#clip340)\" d=\"M49.9359 798.789 L28.3562 798.789 L28.3562 792.932 L49.7131 792.932 Q54.7739 792.932 57.3202 790.959 Q59.8346 788.986 59.8346 785.039 Q59.8346 780.296 56.8109 777.559 Q53.7872 774.79 48.5673 774.79 L28.3562 774.79 L28.3562 768.934 L64.0042 768.934 L64.0042 774.79 L58.5296 774.79 Q61.7762 776.923 63.3676 779.755 Q64.9272 782.556 64.9272 786.28 Q64.9272 792.423 61.1078 795.606 Q57.2883 798.789 49.9359 798.789 M27.4968 784.052 L27.4968 784.052 Z\" fill=\"#000000\" fill-rule=\"nonzero\" fill-opacity=\"1\" /><path clip-path=\"url(#clip340)\" d=\"M44.7161 726.379 L47.5806 726.379 L47.5806 753.306 Q53.6281 752.924 56.8109 749.677 Q59.9619 746.399 59.9619 740.574 Q59.9619 737.201 59.1344 734.05 Q58.3069 730.867 56.6518 727.748 L62.1899 727.748 Q63.5267 730.899 64.227 734.209 Q64.9272 737.519 64.9272 740.925 Q64.9272 749.455 59.9619 754.452 Q54.9967 759.417 46.5303 759.417 Q37.7774 759.417 32.6531 754.706 Q27.4968 749.964 27.4968 741.943 Q27.4968 734.75 32.1438 730.58 Q36.7589 726.379 44.7161 726.379 M42.9973 732.235 Q38.1912 732.299 35.3266 734.941 Q32.4621 737.551 32.4621 741.879 Q32.4621 746.781 35.2312 749.741 Q38.0002 752.669 43.0292 753.115 L42.9973 732.235 Z\" fill=\"#000000\" fill-rule=\"nonzero\" fill-opacity=\"1\" /><path clip-path=\"url(#clip340)\" d=\"M42.4881 687.134 L64.0042 687.134 L64.0042 692.991 L42.679 692.991 Q37.6183 692.991 35.1038 694.964 Q32.5894 696.938 32.5894 700.884 Q32.5894 705.627 35.6131 708.364 Q38.6368 711.101 43.8567 711.101 L64.0042 711.101 L64.0042 716.989 L28.3562 716.989 L28.3562 711.101 L33.8944 711.101 Q30.6797 709.001 29.0883 706.168 Q27.4968 703.303 27.4968 699.579 Q27.4968 693.436 31.3163 690.285 Q35.1038 687.134 42.4881 687.134 Z\" fill=\"#000000\" fill-rule=\"nonzero\" fill-opacity=\"1\" /><path clip-path=\"url(#clip340)\" d=\"M29.7248 649.799 L35.1993 649.799 Q33.8307 652.282 33.1623 654.797 Q32.4621 657.279 32.4621 659.825 Q32.4621 665.523 36.0905 668.674 Q39.6872 671.825 46.212 671.825 Q52.7369 671.825 56.3653 668.674 Q59.9619 665.523 59.9619 659.825 Q59.9619 657.279 59.2935 654.797 Q58.5933 652.282 57.2247 649.799 L62.6355 649.799 Q63.7814 652.25 64.3543 654.892 Q64.9272 657.502 64.9272 660.462 Q64.9272 668.515 59.8664 673.257 Q54.8057 678 46.212 678 Q37.491 678 32.4939 673.225 Q27.4968 668.419 27.4968 660.08 Q27.4968 657.375 28.0697 654.797 Q28.6108 652.218 29.7248 649.799 Z\" fill=\"#000000\" fill-rule=\"nonzero\" fill-opacity=\"1\" /><path clip-path=\"url(#clip340)\" d=\"M67.3143 624.782 Q73.68 627.265 75.6216 629.62 Q77.5631 631.975 77.5631 635.922 L77.5631 640.601 L72.6615 640.601 L72.6615 637.164 Q72.6615 634.745 71.5157 633.408 Q70.3699 632.071 66.1048 630.448 L63.4312 629.397 L28.3562 643.816 L28.3562 637.609 L56.238 626.469 L28.3562 615.329 L28.3562 609.123 L67.3143 624.782 Z\" fill=\"#000000\" fill-rule=\"nonzero\" fill-opacity=\"1\" /><path clip-path=\"url(#clip340)\" d=\"M886.053 12.096 L894.236 12.096 L894.236 36.8875 L923.969 36.8875 L923.969 12.096 L932.152 12.096 L932.152 72.576 L923.969 72.576 L923.969 43.7741 L894.236 43.7741 L894.236 72.576 L886.053 72.576 L886.053 12.096 Z\" fill=\"#000000\" fill-rule=\"nonzero\" fill-opacity=\"1\" /><path clip-path=\"url(#clip340)\" d=\"M948.113 27.2059 L955.566 27.2059 L955.566 72.576 L948.113 72.576 L948.113 27.2059 M948.113 9.54393 L955.566 9.54393 L955.566 18.9825 L948.113 18.9825 L948.113 9.54393 Z\" fill=\"#000000\" fill-rule=\"nonzero\" fill-opacity=\"1\" /><path clip-path=\"url(#clip340)\" d=\"M1000.09 28.5427 L1000.09 35.5912 Q996.926 33.9709 993.523 33.1607 Q990.121 32.3505 986.475 32.3505 Q980.925 32.3505 978.13 34.0519 Q975.375 35.7533 975.375 39.156 Q975.375 41.7486 977.36 43.2475 Q979.345 44.7058 985.34 46.0426 L987.893 46.6097 Q995.832 48.3111 999.154 51.4303 Q1002.52 54.509 1002.52 60.0587 Q1002.52 66.3781 997.493 70.0644 Q992.511 73.7508 983.761 73.7508 Q980.115 73.7508 976.145 73.0216 Q972.216 72.3329 967.841 70.9151 L967.841 63.2184 Q971.972 65.3654 975.983 66.4591 Q979.993 67.5124 983.923 67.5124 Q989.189 67.5124 992.024 65.73 Q994.86 63.9071 994.86 60.6258 Q994.86 57.5877 992.794 55.9673 Q990.769 54.3469 983.842 52.8481 L981.249 52.2405 Q974.322 50.7821 971.243 47.7845 Q968.165 44.7463 968.165 39.4801 Q968.165 33.0797 972.702 29.5959 Q977.239 26.1121 985.584 26.1121 Q989.715 26.1121 993.361 26.7198 Q997.007 27.3274 1000.09 28.5427 Z\" fill=\"#000000\" fill-rule=\"nonzero\" fill-opacity=\"1\" /><path clip-path=\"url(#clip340)\" d=\"M1021.76 14.324 L1021.76 27.2059 L1037.11 27.2059 L1037.11 32.9987 L1021.76 32.9987 L1021.76 57.6282 Q1021.76 63.1779 1023.26 64.7578 Q1024.8 66.3376 1029.45 66.3376 L1037.11 66.3376 L1037.11 72.576 L1029.45 72.576 Q1020.83 72.576 1017.55 69.3758 Q1014.26 66.1351 1014.26 57.6282 L1014.26 32.9987 L1008.8 32.9987 L1008.8 27.2059 L1014.26 27.2059 L1014.26 14.324 L1021.76 14.324 Z\" fill=\"#000000\" fill-rule=\"nonzero\" fill-opacity=\"1\" /><path clip-path=\"url(#clip340)\" d=\"M1064.5 32.4315 Q1058.5 32.4315 1055.02 37.1306 Q1051.53 41.7891 1051.53 49.9314 Q1051.53 58.0738 1054.98 62.7728 Q1058.46 67.4314 1064.5 67.4314 Q1070.45 67.4314 1073.93 62.7323 Q1077.42 58.0333 1077.42 49.9314 Q1077.42 41.8701 1073.93 37.1711 Q1070.45 32.4315 1064.5 32.4315 M1064.5 26.1121 Q1074.22 26.1121 1079.77 32.4315 Q1085.32 38.7509 1085.32 49.9314 Q1085.32 61.0714 1079.77 67.4314 Q1074.22 73.7508 1064.5 73.7508 Q1054.73 73.7508 1049.18 67.4314 Q1043.67 61.0714 1043.67 49.9314 Q1043.67 38.7509 1049.18 32.4315 Q1054.73 26.1121 1064.5 26.1121 Z\" fill=\"#000000\" fill-rule=\"nonzero\" fill-opacity=\"1\" /><path clip-path=\"url(#clip340)\" d=\"M1127.53 49.3643 Q1127.53 41.2625 1124.16 36.8065 Q1120.84 32.3505 1114.81 32.3505 Q1108.81 32.3505 1105.45 36.8065 Q1102.13 41.2625 1102.13 49.3643 Q1102.13 57.4256 1105.45 61.8816 Q1108.81 66.3376 1114.81 66.3376 Q1120.84 66.3376 1124.16 61.8816 Q1127.53 57.4256 1127.53 49.3643 M1134.98 66.9452 Q1134.98 78.5308 1129.84 84.1616 Q1124.69 89.8329 1114.08 89.8329 Q1110.15 89.8329 1106.67 89.2252 Q1103.18 88.6581 1099.9 87.4428 L1099.9 80.1917 Q1103.18 81.9741 1106.38 82.8248 Q1109.58 83.6755 1112.9 83.6755 Q1120.24 83.6755 1123.88 79.8271 Q1127.53 76.0193 1127.53 68.282 L1127.53 64.5957 Q1125.22 68.6061 1121.61 70.5911 Q1118.01 72.576 1112.98 72.576 Q1104.64 72.576 1099.54 66.2161 Q1094.43 59.8562 1094.43 49.3643 Q1094.43 38.832 1099.54 32.472 Q1104.64 26.1121 1112.98 26.1121 Q1118.01 26.1121 1121.61 28.0971 Q1125.22 30.082 1127.53 34.0924 L1127.53 27.2059 L1134.98 27.2059 L1134.98 66.9452 Z\" fill=\"#000000\" fill-rule=\"nonzero\" fill-opacity=\"1\" /><path clip-path=\"url(#clip340)\" d=\"M1176.62 34.1734 Q1175.37 33.4443 1173.87 33.1202 Q1172.41 32.7556 1170.63 32.7556 Q1164.31 32.7556 1160.91 36.8875 Q1157.54 40.9789 1157.54 48.6757 L1157.54 72.576 L1150.05 72.576 L1150.05 27.2059 L1157.54 27.2059 L1157.54 34.2544 Q1159.89 30.1225 1163.66 28.1376 Q1167.43 26.1121 1172.82 26.1121 Q1173.59 26.1121 1174.52 26.2337 Q1175.45 26.3147 1176.58 26.5172 L1176.62 34.1734 Z\" fill=\"#000000\" fill-rule=\"nonzero\" fill-opacity=\"1\" /><path clip-path=\"url(#clip340)\" d=\"M1205.06 49.7694 Q1196.03 49.7694 1192.54 51.8354 Q1189.06 53.9013 1189.06 58.8839 Q1189.06 62.8538 1191.65 65.2034 Q1194.29 67.5124 1198.78 67.5124 Q1204.98 67.5124 1208.71 63.1374 Q1212.47 58.7219 1212.47 51.4303 L1212.47 49.7694 L1205.06 49.7694 M1219.93 46.6907 L1219.93 72.576 L1212.47 72.576 L1212.47 65.6895 Q1209.92 69.8214 1206.11 71.8063 Q1202.31 73.7508 1196.8 73.7508 Q1189.83 73.7508 1185.7 69.8619 Q1181.61 65.9325 1181.61 59.3701 Q1181.61 51.7138 1186.71 47.825 Q1191.86 43.9361 1202.02 43.9361 L1212.47 43.9361 L1212.47 43.2069 Q1212.47 38.0623 1209.07 35.2672 Q1205.71 32.4315 1199.59 32.4315 Q1195.7 32.4315 1192.02 33.3632 Q1188.33 34.295 1184.93 36.1584 L1184.93 29.2718 Q1189.02 27.692 1192.87 26.9223 Q1196.72 26.1121 1200.36 26.1121 Q1210.21 26.1121 1215.07 31.2163 Q1219.93 36.3204 1219.93 46.6907 Z\" fill=\"#000000\" fill-rule=\"nonzero\" fill-opacity=\"1\" /><path clip-path=\"url(#clip340)\" d=\"M1270.61 35.9153 Q1273.4 30.8922 1277.29 28.5022 Q1281.18 26.1121 1286.44 26.1121 Q1293.53 26.1121 1297.38 31.0947 Q1301.23 36.0368 1301.23 45.1919 L1301.23 72.576 L1293.74 72.576 L1293.74 45.4349 Q1293.74 38.913 1291.43 35.7533 Q1289.12 32.5936 1284.38 32.5936 Q1278.59 32.5936 1275.22 36.4419 Q1271.86 40.2903 1271.86 46.9338 L1271.86 72.576 L1264.37 72.576 L1264.37 45.4349 Q1264.37 38.8725 1262.06 35.7533 Q1259.75 32.5936 1254.93 32.5936 Q1249.22 32.5936 1245.85 36.4824 Q1242.49 40.3308 1242.49 46.9338 L1242.49 72.576 L1235 72.576 L1235 27.2059 L1242.49 27.2059 L1242.49 34.2544 Q1245.04 30.082 1248.61 28.0971 Q1252.17 26.1121 1257.08 26.1121 Q1262.02 26.1121 1265.46 28.6237 Q1268.94 31.1352 1270.61 35.9153 Z\" fill=\"#000000\" fill-rule=\"nonzero\" fill-opacity=\"1\" /><path clip-path=\"url(#clip340)\" d=\"M1360.05 32.4315 Q1354.05 32.4315 1350.57 37.1306 Q1347.09 41.7891 1347.09 49.9314 Q1347.09 58.0738 1350.53 62.7728 Q1354.01 67.4314 1360.05 67.4314 Q1366 67.4314 1369.49 62.7323 Q1372.97 58.0333 1372.97 49.9314 Q1372.97 41.8701 1369.49 37.1711 Q1366 32.4315 1360.05 32.4315 M1360.05 26.1121 Q1369.77 26.1121 1375.32 32.4315 Q1380.87 38.7509 1380.87 49.9314 Q1380.87 61.0714 1375.32 67.4314 Q1369.77 73.7508 1360.05 73.7508 Q1350.29 73.7508 1344.74 67.4314 Q1339.23 61.0714 1339.23 49.9314 Q1339.23 38.7509 1344.74 32.4315 Q1350.29 26.1121 1360.05 26.1121 Z\" fill=\"#000000\" fill-rule=\"nonzero\" fill-opacity=\"1\" /><path clip-path=\"url(#clip340)\" d=\"M1416.19 9.54393 L1416.19 15.7418 L1409.07 15.7418 Q1405.05 15.7418 1403.47 17.3622 Q1401.94 18.9825 1401.94 23.1955 L1401.94 27.2059 L1414.21 27.2059 L1414.21 32.9987 L1401.94 32.9987 L1401.94 72.576 L1394.44 72.576 L1394.44 32.9987 L1387.31 32.9987 L1387.31 27.2059 L1394.44 27.2059 L1394.44 24.0462 Q1394.44 16.471 1397.97 13.0277 Q1401.49 9.54393 1409.15 9.54393 L1416.19 9.54393 Z\" fill=\"#000000\" fill-rule=\"nonzero\" fill-opacity=\"1\" /><path clip-path=\"url(#clip340)\" d=\"M1485.38 14.0809 L1485.38 22.0612 Q1480.73 19.8332 1476.59 18.7395 Q1472.46 17.6457 1468.61 17.6457 Q1461.93 17.6457 1458.28 20.2383 Q1454.68 22.8309 1454.68 27.611 Q1454.68 31.6214 1457.07 33.6873 Q1459.5 35.7128 1466.22 36.9686 L1471.17 37.9813 Q1480.32 39.7232 1484.65 44.1387 Q1489.03 48.5136 1489.03 55.8863 Q1489.03 64.6767 1483.12 69.2137 Q1477.24 73.7508 1465.86 73.7508 Q1461.56 73.7508 1456.7 72.7785 Q1451.88 71.8063 1446.7 69.9024 L1446.7 61.4765 Q1451.68 64.2716 1456.46 65.6895 Q1461.24 67.1073 1465.86 67.1073 Q1472.87 67.1073 1476.67 64.3527 Q1480.48 61.598 1480.48 56.4939 Q1480.48 52.0379 1477.73 49.5264 Q1475.01 47.0148 1468.78 45.759 L1463.79 44.7868 Q1454.64 42.9639 1450.55 39.075 Q1446.45 35.1862 1446.45 28.2591 Q1446.45 20.2383 1452.09 15.6203 Q1457.76 11.0023 1467.68 11.0023 Q1471.94 11.0023 1476.35 11.7719 Q1480.77 12.5416 1485.38 14.0809 Z\" fill=\"#000000\" fill-rule=\"nonzero\" fill-opacity=\"1\" /><path clip-path=\"url(#clip340)\" d=\"M1534.12 28.9478 L1534.12 35.9153 Q1530.96 34.1734 1527.76 33.3227 Q1524.6 32.4315 1521.36 32.4315 Q1514.11 32.4315 1510.09 37.0496 Q1506.08 41.6271 1506.08 49.9314 Q1506.08 58.2358 1510.09 62.8538 Q1514.11 67.4314 1521.36 67.4314 Q1524.6 67.4314 1527.76 66.5807 Q1530.96 65.6895 1534.12 63.9476 L1534.12 70.8341 Q1531 72.2924 1527.64 73.0216 Q1524.31 73.7508 1520.55 73.7508 Q1510.3 73.7508 1504.26 67.3098 Q1498.23 60.8689 1498.23 49.9314 Q1498.23 38.832 1504.3 32.472 Q1510.42 26.1121 1521.03 26.1121 Q1524.48 26.1121 1527.76 26.8413 Q1531.04 27.5299 1534.12 28.9478 Z\" fill=\"#000000\" fill-rule=\"nonzero\" fill-opacity=\"1\" /><path clip-path=\"url(#clip340)\" d=\"M1564.66 32.4315 Q1558.66 32.4315 1555.18 37.1306 Q1551.7 41.7891 1551.7 49.9314 Q1551.7 58.0738 1555.14 62.7728 Q1558.62 67.4314 1564.66 67.4314 Q1570.62 67.4314 1574.1 62.7323 Q1577.58 58.0333 1577.58 49.9314 Q1577.58 41.8701 1574.1 37.1711 Q1570.62 32.4315 1564.66 32.4315 M1564.66 26.1121 Q1574.38 26.1121 1579.93 32.4315 Q1585.48 38.7509 1585.48 49.9314 Q1585.48 61.0714 1579.93 67.4314 Q1574.38 73.7508 1564.66 73.7508 Q1554.9 73.7508 1549.35 67.4314 Q1543.84 61.0714 1543.84 49.9314 Q1543.84 38.7509 1549.35 32.4315 Q1554.9 26.1121 1564.66 26.1121 Z\" fill=\"#000000\" fill-rule=\"nonzero\" fill-opacity=\"1\" /><path clip-path=\"url(#clip340)\" d=\"M1624.13 34.1734 Q1622.87 33.4443 1621.37 33.1202 Q1619.91 32.7556 1618.13 32.7556 Q1611.81 32.7556 1608.41 36.8875 Q1605.05 40.9789 1605.05 48.6757 L1605.05 72.576 L1597.55 72.576 L1597.55 27.2059 L1605.05 27.2059 L1605.05 34.2544 Q1607.4 30.1225 1611.16 28.1376 Q1614.93 26.1121 1620.32 26.1121 Q1621.09 26.1121 1622.02 26.2337 Q1622.95 26.3147 1624.09 26.5172 L1624.13 34.1734 Z\" fill=\"#000000\" fill-rule=\"nonzero\" fill-opacity=\"1\" /><path clip-path=\"url(#clip340)\" d=\"M1668.93 48.0275 L1668.93 51.6733 L1634.66 51.6733 Q1635.15 59.3701 1639.28 63.421 Q1643.45 67.4314 1650.86 67.4314 Q1655.16 67.4314 1659.17 66.3781 Q1663.22 65.3249 1667.19 63.2184 L1667.19 70.267 Q1663.18 71.9684 1658.97 72.8596 Q1654.75 73.7508 1650.42 73.7508 Q1639.56 73.7508 1633.2 67.4314 Q1626.88 61.1119 1626.88 50.3365 Q1626.88 39.1965 1632.88 32.6746 Q1638.91 26.1121 1649.12 26.1121 Q1658.28 26.1121 1663.58 32.0264 Q1668.93 37.9003 1668.93 48.0275 M1661.48 45.84 Q1661.4 39.7232 1658.03 36.0774 Q1654.71 32.4315 1649.2 32.4315 Q1642.96 32.4315 1639.2 35.9558 Q1635.47 39.4801 1634.9 45.8805 L1661.48 45.84 Z\" fill=\"#000000\" fill-rule=\"nonzero\" fill-opacity=\"1\" /><path clip-path=\"url(#clip342)\" d=\"M320.51 1163.24 L320.51 1423.18 L559.756 1423.18 L559.756 1163.24 L320.51 1163.24 L320.51 1163.24  Z\" fill=\"#009af9\" fill-rule=\"evenodd\" fill-opacity=\"1\"/>\n",
       "<polyline clip-path=\"url(#clip342)\" style=\"stroke:#000000; stroke-linecap:round; stroke-linejoin:round; stroke-width:4; stroke-opacity:1; fill:none\" points=\"320.51,1163.24 320.51,1423.18 559.756,1423.18 559.756,1163.24 320.51,1163.24 \"/>\n",
       "<path clip-path=\"url(#clip342)\" d=\"M559.756 903.297 L559.756 1423.18 L799.001 1423.18 L799.001 903.297 L559.756 903.297 L559.756 903.297  Z\" fill=\"#009af9\" fill-rule=\"evenodd\" fill-opacity=\"1\"/>\n",
       "<polyline clip-path=\"url(#clip342)\" style=\"stroke:#000000; stroke-linecap:round; stroke-linejoin:round; stroke-width:4; stroke-opacity:1; fill:none\" points=\"559.756,903.297 559.756,1423.18 799.001,1423.18 799.001,903.297 559.756,903.297 \"/>\n",
       "<path clip-path=\"url(#clip342)\" d=\"M799.001 773.326 L799.001 1423.18 L1038.25 1423.18 L1038.25 773.326 L799.001 773.326 L799.001 773.326  Z\" fill=\"#009af9\" fill-rule=\"evenodd\" fill-opacity=\"1\"/>\n",
       "<polyline clip-path=\"url(#clip342)\" style=\"stroke:#000000; stroke-linecap:round; stroke-linejoin:round; stroke-width:4; stroke-opacity:1; fill:none\" points=\"799.001,773.326 799.001,1423.18 1038.25,1423.18 1038.25,773.326 799.001,773.326 \"/>\n",
       "<path clip-path=\"url(#clip342)\" d=\"M1038.25 513.384 L1038.25 1423.18 L1277.49 1423.18 L1277.49 513.384 L1038.25 513.384 L1038.25 513.384  Z\" fill=\"#009af9\" fill-rule=\"evenodd\" fill-opacity=\"1\"/>\n",
       "<polyline clip-path=\"url(#clip342)\" style=\"stroke:#000000; stroke-linecap:round; stroke-linejoin:round; stroke-width:4; stroke-opacity:1; fill:none\" points=\"1038.25,513.384 1038.25,1423.18 1277.49,1423.18 1277.49,513.384 1038.25,513.384 \"/>\n",
       "<path clip-path=\"url(#clip342)\" d=\"M1277.49 123.472 L1277.49 1423.18 L1516.74 1423.18 L1516.74 123.472 L1277.49 123.472 L1277.49 123.472  Z\" fill=\"#009af9\" fill-rule=\"evenodd\" fill-opacity=\"1\"/>\n",
       "<polyline clip-path=\"url(#clip342)\" style=\"stroke:#000000; stroke-linecap:round; stroke-linejoin:round; stroke-width:4; stroke-opacity:1; fill:none\" points=\"1277.49,123.472 1277.49,1423.18 1516.74,1423.18 1516.74,123.472 1277.49,123.472 \"/>\n",
       "<path clip-path=\"url(#clip342)\" d=\"M1516.74 773.326 L1516.74 1423.18 L1755.98 1423.18 L1755.98 773.326 L1516.74 773.326 L1516.74 773.326  Z\" fill=\"#009af9\" fill-rule=\"evenodd\" fill-opacity=\"1\"/>\n",
       "<polyline clip-path=\"url(#clip342)\" style=\"stroke:#000000; stroke-linecap:round; stroke-linejoin:round; stroke-width:4; stroke-opacity:1; fill:none\" points=\"1516.74,773.326 1516.74,1423.18 1755.98,1423.18 1755.98,773.326 1516.74,773.326 \"/>\n",
       "<path clip-path=\"url(#clip342)\" d=\"M1755.98 903.297 L1755.98 1423.18 L1995.23 1423.18 L1995.23 903.297 L1755.98 903.297 L1755.98 903.297  Z\" fill=\"#009af9\" fill-rule=\"evenodd\" fill-opacity=\"1\"/>\n",
       "<polyline clip-path=\"url(#clip342)\" style=\"stroke:#000000; stroke-linecap:round; stroke-linejoin:round; stroke-width:4; stroke-opacity:1; fill:none\" points=\"1755.98,903.297 1755.98,1423.18 1995.23,1423.18 1995.23,903.297 1755.98,903.297 \"/>\n",
       "<path clip-path=\"url(#clip342)\" d=\"M1995.23 1033.27 L1995.23 1423.18 L2234.47 1423.18 L2234.47 1033.27 L1995.23 1033.27 L1995.23 1033.27  Z\" fill=\"#009af9\" fill-rule=\"evenodd\" fill-opacity=\"1\"/>\n",
       "<polyline clip-path=\"url(#clip342)\" style=\"stroke:#000000; stroke-linecap:round; stroke-linejoin:round; stroke-width:4; stroke-opacity:1; fill:none\" points=\"1995.23,1033.27 1995.23,1423.18 2234.47,1423.18 2234.47,1033.27 1995.23,1033.27 \"/>\n",
       "<circle clip-path=\"url(#clip342)\" style=\"fill:#009af9; stroke:none; fill-opacity:0\" cx=\"440.133\" cy=\"1163.24\" r=\"2\"/>\n",
       "<circle clip-path=\"url(#clip342)\" style=\"fill:#009af9; stroke:none; fill-opacity:0\" cx=\"679.378\" cy=\"903.297\" r=\"2\"/>\n",
       "<circle clip-path=\"url(#clip342)\" style=\"fill:#009af9; stroke:none; fill-opacity:0\" cx=\"918.624\" cy=\"773.326\" r=\"2\"/>\n",
       "<circle clip-path=\"url(#clip342)\" style=\"fill:#009af9; stroke:none; fill-opacity:0\" cx=\"1157.87\" cy=\"513.384\" r=\"2\"/>\n",
       "<circle clip-path=\"url(#clip342)\" style=\"fill:#009af9; stroke:none; fill-opacity:0\" cx=\"1397.11\" cy=\"123.472\" r=\"2\"/>\n",
       "<circle clip-path=\"url(#clip342)\" style=\"fill:#009af9; stroke:none; fill-opacity:0\" cx=\"1636.36\" cy=\"773.326\" r=\"2\"/>\n",
       "<circle clip-path=\"url(#clip342)\" style=\"fill:#009af9; stroke:none; fill-opacity:0\" cx=\"1875.61\" cy=\"903.297\" r=\"2\"/>\n",
       "<circle clip-path=\"url(#clip342)\" style=\"fill:#009af9; stroke:none; fill-opacity:0\" cx=\"2114.85\" cy=\"1033.27\" r=\"2\"/>\n",
       "</svg>\n"
      ]
     },
     "metadata": {},
     "output_type": "display_data"
    }
   ],
   "source": [
    "plot(hist, xlabel=\"Score\", ylabel=\"Frequency\", title=\"Histogram of Score\"; legend=false)"
   ]
  },
  {
   "cell_type": "code",
   "execution_count": 36,
   "metadata": {},
   "outputs": [
    {
     "data": {
      "text/plain": [
       "my_mean (generic function with 1 method)"
      ]
     },
     "metadata": {},
     "output_type": "display_data"
    }
   ],
   "source": [
    "function my_mean(v)\n",
    "    total = 0\n",
    "    for i in v\n",
    "        total += i\n",
    "    end\n",
    "    total / length(v)\n",
    "end"
   ]
  },
  {
   "cell_type": "code",
   "execution_count": 46,
   "metadata": {},
   "outputs": [
    {
     "data": {
      "text/plain": [
       "my_variance (generic function with 1 method)"
      ]
     },
     "metadata": {},
     "output_type": "display_data"
    }
   ],
   "source": [
    "function my_variance(v)\n",
    "    m = my_mean(v)\n",
    "    total = 0\n",
    "    for i in v\n",
    "        total += (i - m)^2\n",
    "    end\n",
    "    total / length(v)\n",
    "end"
   ]
  },
  {
   "cell_type": "code",
   "execution_count": 52,
   "metadata": {},
   "outputs": [
    {
     "data": {
      "text/plain": [
       "my_variance2 (generic function with 1 method)"
      ]
     },
     "metadata": {},
     "output_type": "display_data"
    }
   ],
   "source": [
    "function my_variance2(v)\n",
    "    m = my_mean(v)\n",
    "    total = 0\n",
    "    for i in v\n",
    "        total += (i - m)^2\n",
    "    end\n",
    "    total / (length(v) - 1)\n",
    "end"
   ]
  },
  {
   "cell_type": "code",
   "execution_count": 47,
   "metadata": {},
   "outputs": [
    {
     "data": {
      "text/plain": [
       "62.45"
      ]
     },
     "metadata": {},
     "output_type": "display_data"
    }
   ],
   "source": [
    "my_mean(df.score)"
   ]
  },
  {
   "cell_type": "code",
   "execution_count": 48,
   "metadata": {},
   "outputs": [
    {
     "data": {
      "text/plain": [
       "333.3475"
      ]
     },
     "metadata": {},
     "output_type": "display_data"
    }
   ],
   "source": [
    "my_variance(df.score)"
   ]
  },
  {
   "cell_type": "code",
   "execution_count": 53,
   "metadata": {},
   "outputs": [
    {
     "data": {
      "text/plain": [
       "341.89487179487185"
      ]
     },
     "metadata": {},
     "output_type": "display_data"
    }
   ],
   "source": [
    "my_variance2(df.score)"
   ]
  },
  {
   "cell_type": "code",
   "execution_count": 49,
   "metadata": {},
   "outputs": [
    {
     "data": {
      "text/plain": [
       "10000.0"
      ]
     },
     "metadata": {},
     "output_type": "display_data"
    }
   ],
   "source": [
    "my_variance([200, 0])"
   ]
  },
  {
   "cell_type": "code",
   "execution_count": 50,
   "metadata": {},
   "outputs": [
    {
     "data": {
      "text/plain": [
       "my_sqrt (generic function with 1 method)"
      ]
     },
     "metadata": {},
     "output_type": "display_data"
    }
   ],
   "source": [
    "function my_sqrt(v)\n",
    "    sqrt(my_variance(v))\n",
    "end"
   ]
  },
  {
   "cell_type": "code",
   "execution_count": 56,
   "metadata": {},
   "outputs": [
    {
     "data": {
      "text/plain": [
       "my_sqrt2 (generic function with 1 method)"
      ]
     },
     "metadata": {},
     "output_type": "display_data"
    }
   ],
   "source": [
    "function my_sqrt2(v)\n",
    "    sqrt(my_variance2(v))\n",
    "end"
   ]
  },
  {
   "cell_type": "code",
   "execution_count": 51,
   "metadata": {},
   "outputs": [
    {
     "data": {
      "text/plain": [
       "18.257806549528343"
      ]
     },
     "metadata": {},
     "output_type": "display_data"
    }
   ],
   "source": [
    "my_sqrt(df.score)"
   ]
  },
  {
   "cell_type": "code",
   "execution_count": 57,
   "metadata": {},
   "outputs": [
    {
     "data": {
      "text/plain": [
       "18.490399449305357"
      ]
     },
     "metadata": {},
     "output_type": "display_data"
    }
   ],
   "source": [
    "my_sqrt2(df.score)"
   ]
  },
  {
   "cell_type": "markdown",
   "metadata": {},
   "source": [
    "## 2. 観測されたデータから全体の傾向を知るには?"
   ]
  },
  {
   "cell_type": "markdown",
   "metadata": {},
   "source": [
    "## 3. 2つの事柄の関係を調べる"
   ]
  },
  {
   "cell_type": "code",
   "execution_count": 81,
   "metadata": {},
   "outputs": [
    {
     "data": {
      "text/plain": [
       "my_covariance (generic function with 1 method)"
      ]
     },
     "metadata": {},
     "output_type": "display_data"
    }
   ],
   "source": [
    "function my_covariance(v, w)\n",
    "    vm = my_mean(v)\n",
    "    wm = my_mean(w)\n",
    "    total = 0\n",
    "    for d in zip(v, w)\n",
    "        total += (d[1] - vm) * (d[2] - wm)\n",
    "    end\n",
    "    total / length(v)\n",
    "end"
   ]
  },
  {
   "cell_type": "code",
   "execution_count": 82,
   "metadata": {},
   "outputs": [
    {
     "data": {
      "text/plain": [
       "my_correlation (generic function with 1 method)"
      ]
     },
     "metadata": {},
     "output_type": "display_data"
    }
   ],
   "source": [
    "function my_correlation(v, w)\n",
    "    my_covariance(v, w) / (sqrt(my_variance(v)) * sqrt(my_variance(w)))\n",
    "end"
   ]
  },
  {
   "cell_type": "code",
   "execution_count": 83,
   "metadata": {},
   "outputs": [
    {
     "data": {
      "text/plain": [
       "my_covariance2 (generic function with 1 method)"
      ]
     },
     "metadata": {},
     "output_type": "display_data"
    }
   ],
   "source": [
    "function my_covariance2(v, w)\n",
    "    vm = my_mean(v)\n",
    "    wm = my_mean(w)\n",
    "    total = 0\n",
    "    for d in zip(v, w)\n",
    "        total += (d[1] - vm) * (d[2] - wm)\n",
    "    end\n",
    "    total / (length(v) - 1)\n",
    "end"
   ]
  },
  {
   "cell_type": "code",
   "execution_count": 84,
   "metadata": {},
   "outputs": [
    {
     "data": {
      "text/html": [
       "<div><div style = \"float: left;\"><span>10×3 DataFrame</span></div><div style = \"clear: both;\"></div></div><div class = \"data-frame\" style = \"overflow-x: scroll;\"><table class = \"data-frame\" style = \"margin-bottom: 6px;\"><thead><tr class = \"header\"><th class = \"rowNumber\" style = \"font-weight: bold; text-align: right;\">Row</th><th style = \"text-align: left;\">id</th><th style = \"text-align: left;\">age</th><th style = \"text-align: left;\">income</th></tr><tr class = \"subheader headerLastRow\"><th class = \"rowNumber\" style = \"font-weight: bold; text-align: right;\"></th><th title = \"Int64\" style = \"text-align: left;\">Int64</th><th title = \"Int64\" style = \"text-align: left;\">Int64</th><th title = \"Int64\" style = \"text-align: left;\">Int64</th></tr></thead><tbody><tr><td class = \"rowNumber\" style = \"font-weight: bold; text-align: right;\">1</td><td style = \"text-align: right;\">1</td><td style = \"text-align: right;\">12</td><td style = \"text-align: right;\">480</td></tr><tr><td class = \"rowNumber\" style = \"font-weight: bold; text-align: right;\">2</td><td style = \"text-align: right;\">2</td><td style = \"text-align: right;\">16</td><td style = \"text-align: right;\">520</td></tr><tr><td class = \"rowNumber\" style = \"font-weight: bold; text-align: right;\">3</td><td style = \"text-align: right;\">3</td><td style = \"text-align: right;\">18</td><td style = \"text-align: right;\">760</td></tr><tr><td class = \"rowNumber\" style = \"font-weight: bold; text-align: right;\">4</td><td style = \"text-align: right;\">4</td><td style = \"text-align: right;\">16</td><td style = \"text-align: right;\">620</td></tr><tr><td class = \"rowNumber\" style = \"font-weight: bold; text-align: right;\">5</td><td style = \"text-align: right;\">5</td><td style = \"text-align: right;\">12</td><td style = \"text-align: right;\">590</td></tr><tr><td class = \"rowNumber\" style = \"font-weight: bold; text-align: right;\">6</td><td style = \"text-align: right;\">6</td><td style = \"text-align: right;\">10</td><td style = \"text-align: right;\">370</td></tr><tr><td class = \"rowNumber\" style = \"font-weight: bold; text-align: right;\">7</td><td style = \"text-align: right;\">7</td><td style = \"text-align: right;\">14</td><td style = \"text-align: right;\">690</td></tr><tr><td class = \"rowNumber\" style = \"font-weight: bold; text-align: right;\">8</td><td style = \"text-align: right;\">8</td><td style = \"text-align: right;\">16</td><td style = \"text-align: right;\">950</td></tr><tr><td class = \"rowNumber\" style = \"font-weight: bold; text-align: right;\">9</td><td style = \"text-align: right;\">9</td><td style = \"text-align: right;\">12</td><td style = \"text-align: right;\">610</td></tr><tr><td class = \"rowNumber\" style = \"font-weight: bold; text-align: right;\">10</td><td style = \"text-align: right;\">10</td><td style = \"text-align: right;\">12</td><td style = \"text-align: right;\">480</td></tr></tbody></table></div>"
      ],
      "text/latex": [
       "\\begin{tabular}{r|ccc}\n",
       "\t& id & age & income\\\\\n",
       "\t\\hline\n",
       "\t& Int64 & Int64 & Int64\\\\\n",
       "\t\\hline\n",
       "\t1 & 1 & 12 & 480 \\\\\n",
       "\t2 & 2 & 16 & 520 \\\\\n",
       "\t3 & 3 & 18 & 760 \\\\\n",
       "\t4 & 4 & 16 & 620 \\\\\n",
       "\t5 & 5 & 12 & 590 \\\\\n",
       "\t6 & 6 & 10 & 370 \\\\\n",
       "\t7 & 7 & 14 & 690 \\\\\n",
       "\t8 & 8 & 16 & 950 \\\\\n",
       "\t9 & 9 & 12 & 610 \\\\\n",
       "\t10 & 10 & 12 & 480 \\\\\n",
       "\\end{tabular}\n"
      ],
      "text/plain": [
       "\u001b[1m10×3 DataFrame\u001b[0m\n",
       "\u001b[1m Row \u001b[0m│\u001b[1m id    \u001b[0m\u001b[1m age   \u001b[0m\u001b[1m income \u001b[0m\n",
       "     │\u001b[90m Int64 \u001b[0m\u001b[90m Int64 \u001b[0m\u001b[90m Int64  \u001b[0m\n",
       "─────┼──────────────────────\n",
       "   1 │     1     12     480\n",
       "   2 │     2     16     520\n",
       "   3 │     3     18     760\n",
       "   4 │     4     16     620\n",
       "   5 │     5     12     590\n",
       "   6 │     6     10     370\n",
       "   7 │     7     14     690\n",
       "   8 │     8     16     950\n",
       "   9 │     9     12     610\n",
       "  10 │    10     12     480"
      ]
     },
     "metadata": {},
     "output_type": "display_data"
    }
   ],
   "source": [
    "ifn = \"../data/csv/2-3.csv\"\n",
    "df = CSV.read(ifn, DataFrame)"
   ]
  },
  {
   "cell_type": "code",
   "execution_count": 88,
   "metadata": {},
   "outputs": [
    {
     "data": {
      "text/plain": [
       "13.8"
      ]
     },
     "metadata": {},
     "output_type": "display_data"
    }
   ],
   "source": [
    "my_mean(df.age)"
   ]
  },
  {
   "cell_type": "code",
   "execution_count": 89,
   "metadata": {},
   "outputs": [
    {
     "data": {
      "text/plain": [
       "607.0"
      ]
     },
     "metadata": {},
     "output_type": "display_data"
    }
   ],
   "source": [
    "my_mean(df.income)"
   ]
  },
  {
   "cell_type": "code",
   "execution_count": 92,
   "metadata": {},
   "outputs": [
    {
     "data": {
      "text/plain": [
       "5.959999999999999"
      ]
     },
     "metadata": {},
     "output_type": "display_data"
    }
   ],
   "source": [
    "my_variance(df.age)"
   ]
  },
  {
   "cell_type": "code",
   "execution_count": 93,
   "metadata": {},
   "outputs": [
    {
     "data": {
      "text/plain": [
       "6.622222222222222"
      ]
     },
     "metadata": {},
     "output_type": "display_data"
    }
   ],
   "source": [
    "my_variance2(df.age)"
   ]
  },
  {
   "cell_type": "code",
   "execution_count": 91,
   "metadata": {},
   "outputs": [
    {
     "data": {
      "text/plain": [
       "24441.0"
      ]
     },
     "metadata": {},
     "output_type": "display_data"
    }
   ],
   "source": [
    "my_variance(df.income)"
   ]
  },
  {
   "cell_type": "code",
   "execution_count": 94,
   "metadata": {},
   "outputs": [
    {
     "data": {
      "text/plain": [
       "27156.666666666668"
      ]
     },
     "metadata": {},
     "output_type": "display_data"
    }
   ],
   "source": [
    "my_variance2(df.income)"
   ]
  },
  {
   "cell_type": "code",
   "execution_count": 87,
   "metadata": {},
   "outputs": [
    {
     "data": {
      "text/plain": [
       "263.4"
      ]
     },
     "metadata": {},
     "output_type": "display_data"
    }
   ],
   "source": [
    "my_covariance(df.age, df.income)"
   ]
  },
  {
   "cell_type": "code",
   "execution_count": 85,
   "metadata": {},
   "outputs": [
    {
     "data": {
      "text/plain": [
       "0.6901335732408653"
      ]
     },
     "metadata": {},
     "output_type": "display_data"
    }
   ],
   "source": [
    "my_correlation(df.age, df.income)"
   ]
  },
  {
   "cell_type": "markdown",
   "metadata": {},
   "source": [
    "### 実証分析問題"
   ]
  },
  {
   "cell_type": "code",
   "execution_count": 96,
   "metadata": {},
   "outputs": [
    {
     "data": {
      "text/html": [
       "<div><div style = \"float: left;\"><span>4392×2 DataFrame</span></div><div style = \"float: right;\"><span style = \"font-style: italic;\">4367 rows omitted</span></div><div style = \"clear: both;\"></div></div><div class = \"data-frame\" style = \"overflow-x: scroll;\"><table class = \"data-frame\" style = \"margin-bottom: 6px;\"><thead><tr class = \"header\"><th class = \"rowNumber\" style = \"font-weight: bold; text-align: right;\">Row</th><th style = \"text-align: left;\">yeduc</th><th style = \"text-align: left;\">income</th></tr><tr class = \"subheader headerLastRow\"><th class = \"rowNumber\" style = \"font-weight: bold; text-align: right;\"></th><th title = \"Any\" style = \"text-align: left;\">Any</th><th title = \"Any\" style = \"text-align: left;\">Any</th></tr></thead><tbody><tr><td class = \"rowNumber\" style = \"font-weight: bold; text-align: right;\">1</td><td style = \"text-align: left;\">9</td><td style = \"text-align: left;\">50</td></tr><tr><td class = \"rowNumber\" style = \"font-weight: bold; text-align: right;\">2</td><td style = \"text-align: left;\">9</td><td style = \"text-align: left;\">350</td></tr><tr><td class = \"rowNumber\" style = \"font-weight: bold; text-align: right;\">3</td><td style = \"text-align: left;\">9</td><td style = \"text-align: left;\">100</td></tr><tr><td class = \"rowNumber\" style = \"font-weight: bold; text-align: right;\">4</td><td style = \"text-align: left;\">9</td><td style = \"text-align: left;\">0</td></tr><tr><td class = \"rowNumber\" style = \"font-weight: bold; text-align: right;\">5</td><td style = \"text-align: left;\">9</td><td style = \"text-align: left;\">6.25</td></tr><tr><td class = \"rowNumber\" style = \"font-weight: bold; text-align: right;\">6</td><td style = \"text-align: left;\">9</td><td style = \"text-align: left;\">100</td></tr><tr><td class = \"rowNumber\" style = \"font-weight: bold; text-align: right;\">7</td><td style = \"text-align: left;\">9</td><td style = \"text-align: left;\">200</td></tr><tr><td class = \"rowNumber\" style = \"font-weight: bold; text-align: right;\">8</td><td style = \"text-align: left;\">9</td><td style = \"text-align: left;\">50</td></tr><tr><td class = \"rowNumber\" style = \"font-weight: bold; text-align: right;\">9</td><td style = \"text-align: left;\">9</td><td style = \"text-align: left;\">150</td></tr><tr><td class = \"rowNumber\" style = \"font-weight: bold; text-align: right;\">10</td><td style = \"text-align: left;\">9</td><td style = \"text-align: left;\">25</td></tr><tr><td class = \"rowNumber\" style = \"font-weight: bold; text-align: right;\">11</td><td style = \"text-align: left;\">9</td><td style = \"text-align: left;\">6.25</td></tr><tr><td class = \"rowNumber\" style = \"font-weight: bold; text-align: right;\">12</td><td style = \"text-align: left;\">9</td><td style = \"text-align: left;\">56.25</td></tr><tr><td class = \"rowNumber\" style = \"font-weight: bold; text-align: right;\">13</td><td style = \"text-align: left;\">9</td><td style = \"text-align: left;\">356.25</td></tr><tr><td style = \"text-align: right;\">&vellip;</td><td style = \"text-align: right;\">&vellip;</td><td style = \"text-align: right;\">&vellip;</td></tr><tr><td class = \"rowNumber\" style = \"font-weight: bold; text-align: right;\">4381</td><td style = \"text-align: left;\">18</td><td style = \"text-align: left;\">356.25</td></tr><tr><td class = \"rowNumber\" style = \"font-weight: bold; text-align: right;\">4382</td><td style = \"text-align: left;\">18</td><td style = \"text-align: left;\">350</td></tr><tr><td class = \"rowNumber\" style = \"font-weight: bold; text-align: right;\">4383</td><td style = \"text-align: left;\">18</td><td style = \"text-align: left;\">600</td></tr><tr><td class = \"rowNumber\" style = \"font-weight: bold; text-align: right;\">4384</td><td style = \"text-align: left;\">18</td><td style = \"text-align: left;\">600</td></tr><tr><td class = \"rowNumber\" style = \"font-weight: bold; text-align: right;\">4385</td><td style = \"text-align: left;\">18</td><td style = \"text-align: left;\">750</td></tr><tr><td class = \"rowNumber\" style = \"font-weight: bold; text-align: right;\">4386</td><td style = \"text-align: left;\">18</td><td style = \"text-align: left;\">700</td></tr><tr><td class = \"rowNumber\" style = \"font-weight: bold; text-align: right;\">4387</td><td style = \"text-align: left;\">18</td><td style = \"text-align: left;\">700</td></tr><tr><td class = \"rowNumber\" style = \"font-weight: bold; text-align: right;\">4388</td><td style = \"text-align: left;\">18</td><td style = \"text-align: left;\">850</td></tr><tr><td class = \"rowNumber\" style = \"font-weight: bold; text-align: right;\">4389</td><td style = \"text-align: left;\">18</td><td style = \"text-align: left;\">650</td></tr><tr><td class = \"rowNumber\" style = \"font-weight: bold; text-align: right;\">4390</td><td style = \"text-align: left;\">18</td><td style = \"text-align: left;\">700</td></tr><tr><td class = \"rowNumber\" style = \"font-weight: bold; text-align: right;\">4391</td><td style = \"text-align: left;\">18</td><td style = \"text-align: left;\">650</td></tr><tr><td class = \"rowNumber\" style = \"font-weight: bold; text-align: right;\">4392</td><td style = \"text-align: left;\">18</td><td style = \"text-align: left;\">950</td></tr></tbody></table></div>"
      ],
      "text/latex": [
       "\\begin{tabular}{r|cc}\n",
       "\t& yeduc & income\\\\\n",
       "\t\\hline\n",
       "\t& Any & Any\\\\\n",
       "\t\\hline\n",
       "\t1 & 9 & 50 \\\\\n",
       "\t2 & 9 & 350 \\\\\n",
       "\t3 & 9 & 100 \\\\\n",
       "\t4 & 9 & 0 \\\\\n",
       "\t5 & 9 & 6.25 \\\\\n",
       "\t6 & 9 & 100 \\\\\n",
       "\t7 & 9 & 200 \\\\\n",
       "\t8 & 9 & 50 \\\\\n",
       "\t9 & 9 & 150 \\\\\n",
       "\t10 & 9 & 25 \\\\\n",
       "\t11 & 9 & 6.25 \\\\\n",
       "\t12 & 9 & 56.25 \\\\\n",
       "\t13 & 9 & 356.25 \\\\\n",
       "\t14 & 9 & 156.25 \\\\\n",
       "\t15 & 9 & 156.25 \\\\\n",
       "\t16 & 9 & 106.25 \\\\\n",
       "\t17 & 9 & 25 \\\\\n",
       "\t18 & 9 & 275 \\\\\n",
       "\t19 & 9 & 100 \\\\\n",
       "\t20 & 9 & 100 \\\\\n",
       "\t21 & 9 & 200 \\\\\n",
       "\t22 & 9 & 100 \\\\\n",
       "\t23 & 9 & 200 \\\\\n",
       "\t24 & 9 & 100 \\\\\n",
       "\t$\\dots$ & $\\dots$ & $\\dots$ \\\\\n",
       "\\end{tabular}\n"
      ],
      "text/plain": [
       "\u001b[1m4392×2 DataFrame\u001b[0m\n",
       "\u001b[1m  Row \u001b[0m│\u001b[1m yeduc \u001b[0m\u001b[1m income \u001b[0m\n",
       "      │\u001b[90m Any   \u001b[0m\u001b[90m Any    \u001b[0m\n",
       "──────┼───────────────\n",
       "    1 │ 9      50\n",
       "    2 │ 9      350\n",
       "    3 │ 9      100\n",
       "    4 │ 9      0\n",
       "    5 │ 9      6.25\n",
       "    6 │ 9      100\n",
       "    7 │ 9      200\n",
       "    8 │ 9      50\n",
       "  ⋮   │   ⋮      ⋮\n",
       " 4386 │ 18     700\n",
       " 4387 │ 18     700\n",
       " 4388 │ 18     850\n",
       " 4389 │ 18     650\n",
       " 4390 │ 18     700\n",
       " 4391 │ 18     650\n",
       " 4392 │ 18     950\n",
       "\u001b[36m     4377 rows omitted\u001b[0m"
      ]
     },
     "metadata": {},
     "output_type": "display_data"
    }
   ],
   "source": [
    "ifn = \"../data/csv/2_income.xlsx\"\n",
    "sheetname = \"Sheet1\"\n",
    "df = DataFrame(XLSX.readtable(ifn, sheetname))"
   ]
  },
  {
   "cell_type": "code",
   "execution_count": 97,
   "metadata": {},
   "outputs": [
    {
     "data": {
      "text/plain": [
       "258.1326844262295"
      ]
     },
     "metadata": {},
     "output_type": "display_data"
    }
   ],
   "source": [
    "my_mean(df.income)"
   ]
  },
  {
   "cell_type": "code",
   "execution_count": 98,
   "metadata": {},
   "outputs": [
    {
     "data": {
      "text/plain": [
       "30140.316140858573"
      ]
     },
     "metadata": {},
     "output_type": "display_data"
    }
   ],
   "source": [
    "my_variance(df.income)"
   ]
  },
  {
   "cell_type": "code",
   "execution_count": 99,
   "metadata": {},
   "outputs": [
    {
     "data": {
      "text/plain": [
       "30147.180252938022"
      ]
     },
     "metadata": {},
     "output_type": "display_data"
    }
   ],
   "source": [
    "my_variance2(df.income)"
   ]
  },
  {
   "cell_type": "code",
   "execution_count": 100,
   "metadata": {},
   "outputs": [
    {
     "data": {
      "text/plain": [
       "13.851775956284152"
      ]
     },
     "metadata": {},
     "output_type": "display_data"
    }
   ],
   "source": [
    "my_mean(df.yeduc)"
   ]
  },
  {
   "cell_type": "code",
   "execution_count": 101,
   "metadata": {},
   "outputs": [
    {
     "data": {
      "text/plain": [
       "3.5215177931560047"
      ]
     },
     "metadata": {},
     "output_type": "display_data"
    }
   ],
   "source": [
    "my_variance(df.yeduc)"
   ]
  },
  {
   "cell_type": "code",
   "execution_count": 102,
   "metadata": {},
   "outputs": [
    {
     "data": {
      "text/plain": [
       "3.522319778533631"
      ]
     },
     "metadata": {},
     "output_type": "display_data"
    }
   ],
   "source": [
    "my_variance2(df.yeduc)"
   ]
  },
  {
   "cell_type": "code",
   "execution_count": 105,
   "metadata": {},
   "outputs": [
    {
     "data": {
      "text/plain": [
       "80.84742203130166"
      ]
     },
     "metadata": {},
     "output_type": "display_data"
    }
   ],
   "source": [
    "my_covariance(df.yeduc, df.income)"
   ]
  },
  {
   "cell_type": "code",
   "execution_count": 103,
   "metadata": {},
   "outputs": [
    {
     "data": {
      "text/plain": [
       "80.86583410646251"
      ]
     },
     "metadata": {},
     "output_type": "display_data"
    }
   ],
   "source": [
    "my_covariance2(df.yeduc, df.income)"
   ]
  },
  {
   "cell_type": "code",
   "execution_count": 104,
   "metadata": {},
   "outputs": [
    {
     "data": {
      "text/plain": [
       "0.24815745753655216"
      ]
     },
     "metadata": {},
     "output_type": "display_data"
    }
   ],
   "source": [
    "my_correlation(df.yeduc, df.income)"
   ]
  },
  {
   "cell_type": "code",
   "execution_count": null,
   "metadata": {},
   "outputs": [],
   "source": []
  }
 ],
 "metadata": {
  "kernelspec": {
   "display_name": "Julia 1.10.4",
   "language": "julia",
   "name": "julia-1.10"
  },
  "language_info": {
   "file_extension": ".jl",
   "mimetype": "application/julia",
   "name": "julia",
   "version": "1.10.4"
  }
 },
 "nbformat": 4,
 "nbformat_minor": 2
}
